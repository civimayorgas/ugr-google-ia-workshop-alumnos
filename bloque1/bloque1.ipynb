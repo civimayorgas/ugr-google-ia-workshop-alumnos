{
 "cells": [
  {
   "cell_type": "markdown",
   "id": "30047169-be2d-4b17-8467-8b3e9fc3fe90",
   "metadata": {},
   "source": [
    "# Bloque 1"
   ]
  },
  {
   "cell_type": "code",
   "execution_count": 1,
   "id": "7508cfd5-04eb-44c4-8af6-fab2a940b704",
   "metadata": {
    "tags": []
   },
   "outputs": [],
   "source": [
    "USUARIO = \"civica\"\n",
    "PROJECT_ID = \"master-424910\"\n",
    "REGION = \"europe-west1\" "
   ]
  },
  {
   "cell_type": "markdown",
   "id": "77f6d894-3d88-4b23-ae64-31e2e7aedc8c",
   "metadata": {},
   "source": [
    "### Desde BigQuery agregamos una nueva conexión a una fuente de datos externa:\n",
    "- `Tipo de conexión`: Modelos remotos de Vertex AI, funciones remotas y BigLake (Cloud Resource)\n",
    "- `Id de la conexión`: cnx_vertex\n",
    "- `Región`: (la que estemos utilizando para la configuración del resto de recursos)"
   ]
  },
  {
   "cell_type": "markdown",
   "id": "843c7519-5cb0-4a79-a6e8-e4c5d9446be7",
   "metadata": {},
   "source": [
    "### Creamos una tabla en BigQuery que contenga los embeddings\n",
    "Para ello nos ayudaremos del fichero .sql existente en el repositorio"
   ]
  },
  {
   "cell_type": "markdown",
   "id": "e6610d12-a501-47b5-8c76-845513fed43d",
   "metadata": {},
   "source": [
    "### Creamos un bucket para guardar los embeddings que indexaremos después"
   ]
  },
  {
   "cell_type": "code",
   "execution_count": 2,
   "id": "fa87e419-053a-4802-82e0-a8eba87e095c",
   "metadata": {
    "tags": []
   },
   "outputs": [],
   "source": [
    "BUCKET_URI = f\"gs://bucket-{PROJECT_ID}-{USUARIO}\""
   ]
  },
  {
   "cell_type": "code",
   "execution_count": 3,
   "id": "b7b85b14-af97-4d72-af6a-beac883f0c4f",
   "metadata": {
    "tags": []
   },
   "outputs": [
    {
     "name": "stdout",
     "output_type": "stream",
     "text": [
      "Creating gs://bucket-master-424910-civica/...\n"
     ]
    }
   ],
   "source": [
    "! gsutil mb -l {REGION} -p {PROJECT_ID} {BUCKET_URI}"
   ]
  },
  {
   "cell_type": "markdown",
   "id": "6c64f423-9692-4d7d-976c-76290264366e",
   "metadata": {},
   "source": [
    "### Exportamos los embeddings de la tabla de BigQuery en formato JSON al bucket que hemos creado"
   ]
  },
  {
   "cell_type": "code",
   "execution_count": 7,
   "id": "57b5ed5d-248e-46fc-8413-a1b905b25dc9",
   "metadata": {
    "tags": []
   },
   "outputs": [],
   "source": [
    "DATASET = \"ecommerce\"\n",
    "TABLE_ID = \"embeddings\"\n",
    "BUCKET_NAME = f\"bucket-{PROJECT_ID}-{USUARIO}\"\n",
    "OUTPUT = \"embeddings.json\""
   ]
  },
  {
   "cell_type": "code",
   "execution_count": 8,
   "id": "3754290b-34c0-4cf5-a529-f2c1f7305347",
   "metadata": {
    "tags": []
   },
   "outputs": [
    {
     "name": "stdout",
     "output_type": "stream",
     "text": [
      "Export completed successfully\n"
     ]
    }
   ],
   "source": [
    "from google.cloud import bigquery\n",
    "from google.cloud import storage\n",
    "import json\n",
    "import os\n",
    "\n",
    "# Configuración\n",
    "project_id = f\"{PROJECT_ID}\"\n",
    "dataset = f\"{DATASET}\"\n",
    "table_id = f\"{TABLE_ID}\"\n",
    "bucket_name = f\"{BUCKET_NAME}\"\n",
    "output = f\"{OUTPUT}\"\n",
    "\n",
    "# Inicializa el cliente de BigQuery y el cliente de Storage\n",
    "bq_client = bigquery.Client(project=project_id)\n",
    "storage_client = storage.Client(project=project_id)\n",
    "\n",
    "# Consulta\n",
    "query = f\"\"\"\n",
    "SELECT id, text_embedding\n",
    "FROM `{dataset}.{table_id}`\n",
    "\"\"\"\n",
    "\n",
    "# Ejecución\n",
    "query_job = bq_client.query(query)\n",
    "results = query_job.result()\n",
    "\n",
    "# Genera archivo JSON temporal con los embeddings \n",
    "temp_file_path = \"/tmp/temp_embeddings.json\"\n",
    "with open(temp_file_path, \"w\") as f:\n",
    "    for row in results:\n",
    "        record = {\n",
    "            \"id\": str(row[\"id\"]),  \n",
    "            \"embedding\": [str(value) for value in row[\"text_embedding\"]], \n",
    "        }\n",
    "        f.write(json.dumps(record) + \"\\n\")\n",
    "\n",
    "# Sube el archivo JSON al bucket creado anteriormente \n",
    "bucket = storage_client.bucket(bucket_name)\n",
    "blob = bucket.blob(output)\n",
    "blob.upload_from_filename(temp_file_path)\n",
    "\n",
    "# Limpia el archivo temporal\n",
    "os.remove(temp_file_path)\n",
    "\n",
    "print(\"Export completed successfully\")"
   ]
  },
  {
   "cell_type": "markdown",
   "id": "8a47f44e-e965-4814-ad1f-3ecdbc8f3ff8",
   "metadata": {},
   "source": [
    "## Creamos el índice"
   ]
  },
  {
   "cell_type": "code",
   "execution_count": 9,
   "id": "1a48fe7c-d2a7-44e4-b176-a03e082a07fb",
   "metadata": {
    "tags": []
   },
   "outputs": [],
   "source": [
    "DISPLAY_NAME = \"ecommerce_index\"\n",
    "DESCRIPTION = \"products data\""
   ]
  },
  {
   "cell_type": "code",
   "execution_count": 10,
   "id": "81f234c3-2bf5-4ace-9f75-9ace3f11d934",
   "metadata": {
    "tags": []
   },
   "outputs": [],
   "source": [
    "from google.cloud import aiplatform\n",
    "\n",
    "aiplatform.init(project=PROJECT_ID, location=REGION, staging_bucket=f'gs://{BUCKET_NAME}')"
   ]
  },
  {
   "cell_type": "code",
   "execution_count": 11,
   "id": "c3ce44f1-9db8-4c76-b9d9-a7cb32286119",
   "metadata": {
    "tags": []
   },
   "outputs": [
    {
     "name": "stdout",
     "output_type": "stream",
     "text": [
      "Creating MatchingEngineIndex\n",
      "Create MatchingEngineIndex backing LRO: projects/1017560508533/locations/europe-west1/indexes/6615515173723570176/operations/1446547734071869440\n",
      "MatchingEngineIndex created. Resource name: projects/1017560508533/locations/europe-west1/indexes/6615515173723570176\n",
      "To use this MatchingEngineIndex in another session:\n",
      "index = aiplatform.MatchingEngineIndex('projects/1017560508533/locations/europe-west1/indexes/6615515173723570176')\n"
     ]
    }
   ],
   "source": [
    "DIMENSIONS = 768\n",
    "\n",
    "tree_ah_index = aiplatform.MatchingEngineIndex.create_tree_ah_index(\n",
    "    display_name=DISPLAY_NAME,\n",
    "    contents_delta_uri=f\"{BUCKET_URI}\",\n",
    "    dimensions=DIMENSIONS,\n",
    "    approximate_neighbors_count=5,\n",
    "    distance_measure_type=\"DOT_PRODUCT_DISTANCE\",\n",
    "    leaf_node_embedding_count=500,\n",
    "    leaf_nodes_to_search_percent=80,\n",
    "    description=DESCRIPTION,\n",
    ")"
   ]
  },
  {
   "cell_type": "code",
   "execution_count": 12,
   "id": "69b33e8a-4135-4cf9-9c65-e589e8bf475c",
   "metadata": {
    "tags": []
   },
   "outputs": [
    {
     "data": {
      "text/plain": [
       "'projects/1017560508533/locations/europe-west1/indexes/6615515173723570176'"
      ]
     },
     "execution_count": 12,
     "metadata": {},
     "output_type": "execute_result"
    }
   ],
   "source": [
    "INDEX_RESOURCE_NAME = tree_ah_index.resource_name\n",
    "INDEX_RESOURCE_NAME"
   ]
  },
  {
   "cell_type": "code",
   "execution_count": 13,
   "id": "b7574e44-5d5a-4e70-a776-de47f12f6863",
   "metadata": {
    "tags": []
   },
   "outputs": [],
   "source": [
    "tree_ah_index = aiplatform.MatchingEngineIndex(index_name=INDEX_RESOURCE_NAME)"
   ]
  },
  {
   "cell_type": "markdown",
   "id": "b4bee999-6fd5-4cd4-84fc-c6dfcee712e1",
   "metadata": {},
   "source": [
    "# Creamos el endpoint y lo desplegamos"
   ]
  },
  {
   "cell_type": "code",
   "execution_count": 14,
   "id": "7503c04f-2d51-4d0f-92b7-ea435a532769",
   "metadata": {
    "tags": []
   },
   "outputs": [
    {
     "name": "stdout",
     "output_type": "stream",
     "text": [
      "Creating MatchingEngineIndexEndpoint\n",
      "Create MatchingEngineIndexEndpoint backing LRO: projects/1017560508533/locations/europe-west1/indexEndpoints/3571398484969914368/operations/8839769472353959936\n",
      "MatchingEngineIndexEndpoint created. Resource name: projects/1017560508533/locations/europe-west1/indexEndpoints/3571398484969914368\n",
      "To use this MatchingEngineIndexEndpoint in another session:\n",
      "index_endpoint = aiplatform.MatchingEngineIndexEndpoint('projects/1017560508533/locations/europe-west1/indexEndpoints/3571398484969914368')\n"
     ]
    }
   ],
   "source": [
    "my_index_endpoint = aiplatform.MatchingEngineIndexEndpoint.create(\n",
    "    display_name=DISPLAY_NAME,\n",
    "    description=DISPLAY_NAME,\n",
    "    public_endpoint_enabled=True,\n",
    ")"
   ]
  },
  {
   "cell_type": "code",
   "execution_count": 15,
   "id": "e06bf93f-daa2-4230-8adf-f00a0020ec5c",
   "metadata": {
    "tags": []
   },
   "outputs": [
    {
     "data": {
      "text/plain": [
       "'products_data_index_civica'"
      ]
     },
     "execution_count": 15,
     "metadata": {},
     "output_type": "execute_result"
    }
   ],
   "source": [
    "DEPLOYED_INDEX_ID = f\"products_data_index_{USUARIO}\"\n",
    "DEPLOYED_INDEX_ID"
   ]
  },
  {
   "cell_type": "code",
   "execution_count": 16,
   "id": "d2758cbf-87f1-4399-b843-54c044365d6c",
   "metadata": {
    "tags": []
   },
   "outputs": [
    {
     "name": "stdout",
     "output_type": "stream",
     "text": [
      "Deploying index MatchingEngineIndexEndpoint index_endpoint: projects/1017560508533/locations/europe-west1/indexEndpoints/3571398484969914368\n",
      "Deploy index MatchingEngineIndexEndpoint index_endpoint backing LRO: projects/1017560508533/locations/europe-west1/indexEndpoints/3571398484969914368/operations/4045124719064645632\n",
      "MatchingEngineIndexEndpoint index_endpoint Deployed index. Resource name: projects/1017560508533/locations/europe-west1/indexEndpoints/3571398484969914368\n"
     ]
    },
    {
     "data": {
      "text/plain": [
       "[id: \"products_data_index_civica\"\n",
       "index: \"projects/1017560508533/locations/europe-west1/indexes/6615515173723570176\"\n",
       "create_time {\n",
       "  seconds: 1717862910\n",
       "  nanos: 408840000\n",
       "}\n",
       "index_sync_time {\n",
       "  seconds: 1717864484\n",
       "  nanos: 649755000\n",
       "}\n",
       "automatic_resources {\n",
       "  min_replica_count: 2\n",
       "  max_replica_count: 2\n",
       "}\n",
       "deployment_group: \"default\"\n",
       "]"
      ]
     },
     "execution_count": 16,
     "metadata": {},
     "output_type": "execute_result"
    }
   ],
   "source": [
    "my_index_endpoint = my_index_endpoint.deploy_index(\n",
    "    index=tree_ah_index, deployed_index_id=DEPLOYED_INDEX_ID\n",
    ")\n",
    "my_index_endpoint.deployed_indexes"
   ]
  },
  {
   "cell_type": "markdown",
   "id": "d214056d-2dfd-4d00-8395-585d126e2417",
   "metadata": {},
   "source": [
    "## Verificamos que el número de items se corresponde con el número de embeddings"
   ]
  },
  {
   "cell_type": "code",
   "execution_count": 17,
   "id": "9b862452-4c02-4cad-8de9-9f2cda4e1876",
   "metadata": {
    "tags": []
   },
   "outputs": [
    {
     "name": "stdout",
     "output_type": "stream",
     "text": [
      "Expected: 3890, Actual: 3890\n"
     ]
    }
   ],
   "source": [
    "number_of_vectors = sum(\n",
    "    aiplatform.MatchingEngineIndex(\n",
    "        deployed_index.index\n",
    "    )._gca_resource.index_stats.vectors_count\n",
    "    for deployed_index in my_index_endpoint.deployed_indexes\n",
    ")\n",
    "\n",
    "print(f\"Expected: 3890, Actual: {number_of_vectors}\")"
   ]
  },
  {
   "cell_type": "markdown",
   "id": "5daf1dbd-5a97-421e-a1f0-988e6869c2b2",
   "metadata": {
    "tags": []
   },
   "source": [
    "## Para borrar el endpoint y el bucket..."
   ]
  },
  {
   "cell_type": "code",
   "execution_count": null,
   "id": "febe75a7-c380-4313-94bd-f898d456dfc5",
   "metadata": {
    "tags": []
   },
   "outputs": [],
   "source": [
    "# import os\n",
    "\n",
    "# delete_bucket = False\n",
    "\n",
    "# # Force undeployment of indexes and delete endpoint\n",
    "# my_index_endpoint.delete(force=True)\n",
    "\n",
    "# # Delete indexes\n",
    "# tree_ah_index.delete()\n",
    "\n",
    "# if delete_bucket or os.getenv(\"IS_TESTING\"):\n",
    "#     ! gsutil rm -rf {BUCKET_URI}"
   ]
  }
 ],
 "metadata": {
  "environment": {
   "kernel": "conda-base-py",
   "name": "workbench-notebooks.m121",
   "type": "gcloud",
   "uri": "us-docker.pkg.dev/deeplearning-platform-release/gcr.io/workbench-notebooks:m121"
  },
  "kernelspec": {
   "display_name": "Python 3 (ipykernel) (Local)",
   "language": "python",
   "name": "conda-base-py"
  },
  "language_info": {
   "codemirror_mode": {
    "name": "ipython",
    "version": 3
   },
   "file_extension": ".py",
   "mimetype": "text/x-python",
   "name": "python",
   "nbconvert_exporter": "python",
   "pygments_lexer": "ipython3",
   "version": "3.10.14"
  }
 },
 "nbformat": 4,
 "nbformat_minor": 5
}
