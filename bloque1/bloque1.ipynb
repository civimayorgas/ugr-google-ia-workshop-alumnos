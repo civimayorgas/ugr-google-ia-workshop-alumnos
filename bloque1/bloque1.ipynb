{
 "cells": [
  {
   "cell_type": "markdown",
   "id": "8dd70f68-d1a4-4538-bac4-65ba437402c2",
   "metadata": {},
   "source": [
    "# Bloque 1"
   ]
  },
  {
   "cell_type": "code",
   "execution_count": 1,
   "id": "513ce922-081a-48eb-ae55-f320bb1a6305",
   "metadata": {
    "tags": []
   },
   "outputs": [],
   "source": [
    "ALUMNO = 'civica'"
   ]
  },
  {
   "cell_type": "markdown",
   "id": "75652af4-4ee3-40a0-90f5-555c9f4c1de0",
   "metadata": {
    "tags": []
   },
   "source": [
    "# Consulta datos en BigQuery"
   ]
  },
  {
   "cell_type": "code",
   "execution_count": 2,
   "id": "ab6e4f34-a3de-405f-958f-e25b03736883",
   "metadata": {
    "tags": []
   },
   "outputs": [],
   "source": [
    "from google.cloud import bigquery\n",
    "\n",
    "client = bigquery.Client()"
   ]
  },
  {
   "cell_type": "markdown",
   "id": "9ef3ea89-704a-42bd-90b3-a3c479975bbf",
   "metadata": {},
   "source": [
    "Tomamos solo los datos del centro de distribución 1"
   ]
  },
  {
   "cell_type": "code",
   "execution_count": 3,
   "id": "f0f3227a-0cbe-4790-a28a-8a0aa087ad3c",
   "metadata": {
    "tags": []
   },
   "outputs": [],
   "source": [
    "sql = \"\"\"\n",
    "SELECT * \n",
    "FROM `ia-ugr.ecommerce.products`\n",
    "WHERE distribution_center_id = 1\n",
    "AND name IS NOT NULL;\n",
    "\"\"\""
   ]
  },
  {
   "cell_type": "code",
   "execution_count": 4,
   "id": "6e7644ed-62c3-4d92-a215-b3dfd07515c3",
   "metadata": {
    "tags": []
   },
   "outputs": [
    {
     "data": {
      "text/html": [
       "<div>\n",
       "<style scoped>\n",
       "    .dataframe tbody tr th:only-of-type {\n",
       "        vertical-align: middle;\n",
       "    }\n",
       "\n",
       "    .dataframe tbody tr th {\n",
       "        vertical-align: top;\n",
       "    }\n",
       "\n",
       "    .dataframe thead th {\n",
       "        text-align: right;\n",
       "    }\n",
       "</style>\n",
       "<table border=\"1\" class=\"dataframe\">\n",
       "  <thead>\n",
       "    <tr style=\"text-align: right;\">\n",
       "      <th></th>\n",
       "      <th>id</th>\n",
       "      <th>cost</th>\n",
       "      <th>category</th>\n",
       "      <th>name</th>\n",
       "      <th>brand</th>\n",
       "      <th>retail_price</th>\n",
       "      <th>department</th>\n",
       "      <th>sku</th>\n",
       "      <th>distribution_center_id</th>\n",
       "    </tr>\n",
       "  </thead>\n",
       "  <tbody>\n",
       "    <tr>\n",
       "      <th>0</th>\n",
       "      <td>15674</td>\n",
       "      <td>3.10625</td>\n",
       "      <td>Plus</td>\n",
       "      <td>Low Profile Dyed Cotton Twill Cap - Navy W39S55D</td>\n",
       "      <td>MG</td>\n",
       "      <td>6.25</td>\n",
       "      <td>Women</td>\n",
       "      <td>63894CE404B8C652915C41EF8B879D20</td>\n",
       "      <td>1</td>\n",
       "    </tr>\n",
       "    <tr>\n",
       "      <th>1</th>\n",
       "      <td>15816</td>\n",
       "      <td>3.17730</td>\n",
       "      <td>Plus</td>\n",
       "      <td>Low Profile Dyed Cotton Twill Cap - Putty W39S55D</td>\n",
       "      <td>MG</td>\n",
       "      <td>5.95</td>\n",
       "      <td>Women</td>\n",
       "      <td>151EA8C2D98CE89C2336324C11B1E107</td>\n",
       "      <td>1</td>\n",
       "    </tr>\n",
       "    <tr>\n",
       "      <th>2</th>\n",
       "      <td>15981</td>\n",
       "      <td>20.43000</td>\n",
       "      <td>Plus</td>\n",
       "      <td>Echo Design Women's Knit Touch Glove And Earbu...</td>\n",
       "      <td>ECHO</td>\n",
       "      <td>45.00</td>\n",
       "      <td>Women</td>\n",
       "      <td>A1C9A80B51FB1A982B13329A1DC58F95</td>\n",
       "      <td>1</td>\n",
       "    </tr>\n",
       "    <tr>\n",
       "      <th>3</th>\n",
       "      <td>15917</td>\n",
       "      <td>1.63800</td>\n",
       "      <td>Plus</td>\n",
       "      <td>Keds Popcorn Socks in 3 Pack Different Style G...</td>\n",
       "      <td>Keds</td>\n",
       "      <td>3.50</td>\n",
       "      <td>Women</td>\n",
       "      <td>7737A2600285AFE739FC99B6F0E9FD97</td>\n",
       "      <td>1</td>\n",
       "    </tr>\n",
       "    <tr>\n",
       "      <th>4</th>\n",
       "      <td>15448</td>\n",
       "      <td>11.85800</td>\n",
       "      <td>Plus</td>\n",
       "      <td>ASICS Unisex Adult Thrmopolis LT Beanie</td>\n",
       "      <td>ASICS</td>\n",
       "      <td>22.00</td>\n",
       "      <td>Women</td>\n",
       "      <td>349F259C872C43D1EA241BA414C5B70B</td>\n",
       "      <td>1</td>\n",
       "    </tr>\n",
       "  </tbody>\n",
       "</table>\n",
       "</div>"
      ],
      "text/plain": [
       "      id      cost category  \\\n",
       "0  15674   3.10625     Plus   \n",
       "1  15816   3.17730     Plus   \n",
       "2  15981  20.43000     Plus   \n",
       "3  15917   1.63800     Plus   \n",
       "4  15448  11.85800     Plus   \n",
       "\n",
       "                                                name  brand  retail_price  \\\n",
       "0   Low Profile Dyed Cotton Twill Cap - Navy W39S55D     MG          6.25   \n",
       "1  Low Profile Dyed Cotton Twill Cap - Putty W39S55D     MG          5.95   \n",
       "2  Echo Design Women's Knit Touch Glove And Earbu...   ECHO         45.00   \n",
       "3  Keds Popcorn Socks in 3 Pack Different Style G...   Keds          3.50   \n",
       "4            ASICS Unisex Adult Thrmopolis LT Beanie  ASICS         22.00   \n",
       "\n",
       "  department                               sku  distribution_center_id  \n",
       "0      Women  63894CE404B8C652915C41EF8B879D20                       1  \n",
       "1      Women  151EA8C2D98CE89C2336324C11B1E107                       1  \n",
       "2      Women  A1C9A80B51FB1A982B13329A1DC58F95                       1  \n",
       "3      Women  7737A2600285AFE739FC99B6F0E9FD97                       1  \n",
       "4      Women  349F259C872C43D1EA241BA414C5B70B                       1  "
      ]
     },
     "execution_count": 4,
     "metadata": {},
     "output_type": "execute_result"
    }
   ],
   "source": [
    "products = client.query(sql).to_dataframe()\n",
    "\n",
    "products.head()"
   ]
  },
  {
   "cell_type": "markdown",
   "id": "d824cb42-4ae5-42d4-a0b5-0b6a084abe5c",
   "metadata": {
    "tags": []
   },
   "source": [
    "# Preparación embeddings"
   ]
  },
  {
   "cell_type": "code",
   "execution_count": 5,
   "id": "d1b4cbd2-c774-4d7e-8023-04ce69aa05ae",
   "metadata": {
    "tags": []
   },
   "outputs": [],
   "source": [
    "PROJECT_ID = 'ia-ugr'\n",
    "REGION = \"us-central1\" "
   ]
  },
  {
   "cell_type": "markdown",
   "id": "e05efba2-ef87-4454-823b-1911535b312a",
   "metadata": {
    "tags": []
   },
   "source": [
    "## Definimos una función para generar chunks de nuestra tabla y evitar errores de memoria:"
   ]
  },
  {
   "cell_type": "markdown",
   "id": "030ab120-d030-408e-9c16-9f2eb9bd3aed",
   "metadata": {
    "tags": []
   },
   "source": [
    "### Función `query_bigquery_chunks`\n",
    "\n",
    "Consulta datos de BigQuery en bloques (chunks) y genera DataFrames de pandas. Cada DataFrame añade una columna `text_to_index` con información concatenada de la categoría, nombre, departamento y precio del producto.\n",
    "\n",
    "#### Argumentos:\n",
    "- `max_rows` (**int**): Número máximo de filas a consultar.\n",
    "- `rows_per_chunk` (**int**): Número de filas en cada chunk.\n",
    "- `start_chunk` (**int**): Índice inicial desde el que comenzar la consulta.\n",
    "\n",
    "#### Salida:\n",
    "- **Yields** `pd.DataFrame`: DataFrames con los datos consultados y procesados, generados uno a uno.\n"
   ]
  },
  {
   "cell_type": "code",
   "execution_count": 6,
   "id": "af6c85ce-1b9d-49db-9a08-be11b804f6cf",
   "metadata": {
    "tags": []
   },
   "outputs": [],
   "source": [
    "import math\n",
    "from typing import Any, Generator\n",
    "\n",
    "import pandas as pd\n",
    "from google.cloud import bigquery\n",
    "\n",
    "client = bigquery.Client(project=PROJECT_ID)\n",
    "\n",
    "# LO VAMOS A HACER SOLAMENTE PARA EL CENTRO DE DISTRIBUCIÓN 1\n",
    "QUERY_TEMPLATE = \"\"\"\n",
    "SELECT * \n",
    "FROM `ia-ugr.ecommerce.products`\n",
    "WHERE distribution_center_id = 1\n",
    "AND name IS NOT NULL\n",
    "LIMIT {limit}\n",
    "OFFSET {offset};\n",
    "\"\"\"\n",
    "\n",
    "\n",
    "def query_bigquery_chunks(\n",
    "    max_rows: int, rows_per_chunk: int, start_chunk: int = 0\n",
    ") -> Generator[pd.DataFrame, Any, None]:\n",
    "    for offset in range(start_chunk, max_rows, rows_per_chunk):\n",
    "        query = QUERY_TEMPLATE.format(limit=rows_per_chunk, offset=offset)\n",
    "        query_job = client.query(query)\n",
    "        rows = query_job.result()\n",
    "        df = rows.to_dataframe()\n",
    "#        df[\"text_to_index\"] = df.name\n",
    "\n",
    "        df[\"text_to_index\"] = \"Category: \" + df.category + \". \" \\\n",
    "        \"Name: \" + df.name + \". \"\\\n",
    "        \"Department: \" + df.department + \". \"\\\n",
    "        \"Price: \" + df['retail_price'].astype(str)\n",
    "\n",
    "        df = df[df['text_to_index'].notna()]\n",
    "\n",
    "        yield df"
   ]
  },
  {
   "cell_type": "markdown",
   "id": "e6ee0a7d-ad14-4ad5-9bcf-89d20b9dec1e",
   "metadata": {
    "tags": []
   },
   "source": [
    "### Probamos la función generando 1 chunk de nuestra tabla:"
   ]
  },
  {
   "cell_type": "code",
   "execution_count": 7,
   "id": "562eb530-e667-496a-824e-76bb10bb60fb",
   "metadata": {
    "tags": []
   },
   "outputs": [
    {
     "data": {
      "text/html": [
       "<div>\n",
       "<style scoped>\n",
       "    .dataframe tbody tr th:only-of-type {\n",
       "        vertical-align: middle;\n",
       "    }\n",
       "\n",
       "    .dataframe tbody tr th {\n",
       "        vertical-align: top;\n",
       "    }\n",
       "\n",
       "    .dataframe thead th {\n",
       "        text-align: right;\n",
       "    }\n",
       "</style>\n",
       "<table border=\"1\" class=\"dataframe\">\n",
       "  <thead>\n",
       "    <tr style=\"text-align: right;\">\n",
       "      <th></th>\n",
       "      <th>id</th>\n",
       "      <th>cost</th>\n",
       "      <th>category</th>\n",
       "      <th>name</th>\n",
       "      <th>brand</th>\n",
       "      <th>retail_price</th>\n",
       "      <th>department</th>\n",
       "      <th>sku</th>\n",
       "      <th>distribution_center_id</th>\n",
       "      <th>text_to_index</th>\n",
       "    </tr>\n",
       "  </thead>\n",
       "  <tbody>\n",
       "    <tr>\n",
       "      <th>0</th>\n",
       "      <td>15674</td>\n",
       "      <td>3.10625</td>\n",
       "      <td>Plus</td>\n",
       "      <td>Low Profile Dyed Cotton Twill Cap - Navy W39S55D</td>\n",
       "      <td>MG</td>\n",
       "      <td>6.25</td>\n",
       "      <td>Women</td>\n",
       "      <td>63894CE404B8C652915C41EF8B879D20</td>\n",
       "      <td>1</td>\n",
       "      <td>Category: Plus. Name: Low Profile Dyed Cotton ...</td>\n",
       "    </tr>\n",
       "    <tr>\n",
       "      <th>1</th>\n",
       "      <td>15816</td>\n",
       "      <td>3.17730</td>\n",
       "      <td>Plus</td>\n",
       "      <td>Low Profile Dyed Cotton Twill Cap - Putty W39S55D</td>\n",
       "      <td>MG</td>\n",
       "      <td>5.95</td>\n",
       "      <td>Women</td>\n",
       "      <td>151EA8C2D98CE89C2336324C11B1E107</td>\n",
       "      <td>1</td>\n",
       "      <td>Category: Plus. Name: Low Profile Dyed Cotton ...</td>\n",
       "    </tr>\n",
       "    <tr>\n",
       "      <th>2</th>\n",
       "      <td>15981</td>\n",
       "      <td>20.43000</td>\n",
       "      <td>Plus</td>\n",
       "      <td>Echo Design Women's Knit Touch Glove And Earbu...</td>\n",
       "      <td>ECHO</td>\n",
       "      <td>45.00</td>\n",
       "      <td>Women</td>\n",
       "      <td>A1C9A80B51FB1A982B13329A1DC58F95</td>\n",
       "      <td>1</td>\n",
       "      <td>Category: Plus. Name: Echo Design Women's Knit...</td>\n",
       "    </tr>\n",
       "    <tr>\n",
       "      <th>3</th>\n",
       "      <td>15917</td>\n",
       "      <td>1.63800</td>\n",
       "      <td>Plus</td>\n",
       "      <td>Keds Popcorn Socks in 3 Pack Different Style G...</td>\n",
       "      <td>Keds</td>\n",
       "      <td>3.50</td>\n",
       "      <td>Women</td>\n",
       "      <td>7737A2600285AFE739FC99B6F0E9FD97</td>\n",
       "      <td>1</td>\n",
       "      <td>Category: Plus. Name: Keds Popcorn Socks in 3 ...</td>\n",
       "    </tr>\n",
       "    <tr>\n",
       "      <th>4</th>\n",
       "      <td>15448</td>\n",
       "      <td>11.85800</td>\n",
       "      <td>Plus</td>\n",
       "      <td>ASICS Unisex Adult Thrmopolis LT Beanie</td>\n",
       "      <td>ASICS</td>\n",
       "      <td>22.00</td>\n",
       "      <td>Women</td>\n",
       "      <td>349F259C872C43D1EA241BA414C5B70B</td>\n",
       "      <td>1</td>\n",
       "      <td>Category: Plus. Name: ASICS Unisex Adult Thrmo...</td>\n",
       "    </tr>\n",
       "  </tbody>\n",
       "</table>\n",
       "</div>"
      ],
      "text/plain": [
       "      id      cost category  \\\n",
       "0  15674   3.10625     Plus   \n",
       "1  15816   3.17730     Plus   \n",
       "2  15981  20.43000     Plus   \n",
       "3  15917   1.63800     Plus   \n",
       "4  15448  11.85800     Plus   \n",
       "\n",
       "                                                name  brand  retail_price  \\\n",
       "0   Low Profile Dyed Cotton Twill Cap - Navy W39S55D     MG          6.25   \n",
       "1  Low Profile Dyed Cotton Twill Cap - Putty W39S55D     MG          5.95   \n",
       "2  Echo Design Women's Knit Touch Glove And Earbu...   ECHO         45.00   \n",
       "3  Keds Popcorn Socks in 3 Pack Different Style G...   Keds          3.50   \n",
       "4            ASICS Unisex Adult Thrmopolis LT Beanie  ASICS         22.00   \n",
       "\n",
       "  department                               sku  distribution_center_id  \\\n",
       "0      Women  63894CE404B8C652915C41EF8B879D20                       1   \n",
       "1      Women  151EA8C2D98CE89C2336324C11B1E107                       1   \n",
       "2      Women  A1C9A80B51FB1A982B13329A1DC58F95                       1   \n",
       "3      Women  7737A2600285AFE739FC99B6F0E9FD97                       1   \n",
       "4      Women  349F259C872C43D1EA241BA414C5B70B                       1   \n",
       "\n",
       "                                       text_to_index  \n",
       "0  Category: Plus. Name: Low Profile Dyed Cotton ...  \n",
       "1  Category: Plus. Name: Low Profile Dyed Cotton ...  \n",
       "2  Category: Plus. Name: Echo Design Women's Knit...  \n",
       "3  Category: Plus. Name: Keds Popcorn Socks in 3 ...  \n",
       "4  Category: Plus. Name: ASICS Unisex Adult Thrmo...  "
      ]
     },
     "execution_count": 7,
     "metadata": {},
     "output_type": "execute_result"
    }
   ],
   "source": [
    "# Get a dataframe of 1000 rows for demonstration purposes\n",
    "df = next(query_bigquery_chunks(max_rows=1000, rows_per_chunk=1000))\n",
    "\n",
    "# Examine the data\n",
    "df.head()"
   ]
  },
  {
   "cell_type": "markdown",
   "id": "2e7925fe-635f-4d43-a65a-9ebec6b9b23c",
   "metadata": {
    "tags": []
   },
   "source": [
    "## Definimos una función para generar los embeddings vectoriales:"
   ]
  },
  {
   "cell_type": "markdown",
   "id": "1f226d64-8c08-4e3a-9f9d-533b0729890b",
   "metadata": {
    "tags": []
   },
   "source": [
    "### Funciones auxiliares:"
   ]
  },
  {
   "cell_type": "markdown",
   "id": "33f2d2f0-6202-46dc-8b40-7c2206e7df4b",
   "metadata": {
    "tags": []
   },
   "source": [
    "#### Función `encode_texts_to_embeddings`\n",
    "\n",
    "Genera embeddings vectoriales para una lista de frases utilizando el modelo de Vertex AI. Devuelve una lista de vectores de embeddings.\n",
    "\n",
    "##### Argumentos:\n",
    "- `sentences` (**List[str]**): Lista de frases a convertir en embeddings.\n",
    "\n",
    "##### Salida:\n",
    "- **List[Optional[List[float]]]**: Lista de embeddings vectoriales para cada frase, o `None` para frases que causaron excepciones.\n",
    "\n",
    "*Es necesario habilitar Vertex AI API*"
   ]
  },
  {
   "cell_type": "code",
   "execution_count": 8,
   "id": "b2731d58-a1e7-410f-a6a8-571b08260d1e",
   "metadata": {
    "tags": []
   },
   "outputs": [],
   "source": [
    "from typing import List, Optional\n",
    "\n",
    "# Load the \"Vertex AI Embeddings for Text\" model\n",
    "from vertexai.preview.language_models import TextEmbeddingModel\n",
    "\n",
    "model = TextEmbeddingModel.from_pretrained(\"textembedding-gecko@001\")\n",
    "\n",
    "# Define an embedding method that uses the model\n",
    "def encode_texts_to_embeddings(sentences: List[str]) -> List[Optional[List[float]]]:\n",
    "    try:\n",
    "        embeddings = model.get_embeddings(sentences)\n",
    "        return [embedding.values for embedding in embeddings]\n",
    "    except Exception:\n",
    "        print(f\"Entran las sentences: {sentences}\")\n",
    "        print(\"Es exception\")\n",
    "        return [None for _ in range(len(sentences))]"
   ]
  },
  {
   "cell_type": "markdown",
   "id": "14506c24-5162-4d4d-83cb-5572cea79c8a",
   "metadata": {
    "tags": []
   },
   "source": [
    "#### Función `generate_batches`\n",
    "\n",
    "Genera lotes de frases de un tamaño específico. Según la documentación, cada solicitud puede manejar hasta cinco instancias de texto. Por lo tanto, se generarán lotes de cinco.\n",
    "\n",
    "##### Argumentos:\n",
    "- `sentences` (**List[str]**): La lista completa de frases de la cual generar lotes.\n",
    "- `batch_size` (**int**): El número de frases en cada lote.\n",
    "\n",
    "##### Salida:\n",
    "- **Generator[List[str], None, None]**: Un generador que produce lotes de frases, donde cada lote es una lista de frases.\n"
   ]
  },
  {
   "cell_type": "code",
   "execution_count": 9,
   "id": "47ef8558-a7ad-4824-8489-3211e65803dc",
   "metadata": {
    "tags": []
   },
   "outputs": [],
   "source": [
    "import functools\n",
    "import time\n",
    "from concurrent.futures import ThreadPoolExecutor\n",
    "from typing import Generator, List, Tuple\n",
    "\n",
    "import numpy as np\n",
    "from tqdm.auto import tqdm\n",
    "\n",
    "\n",
    "# Generator function to yield batches of sentences\n",
    "def generate_batches(\n",
    "    sentences: List[str], batch_size: int\n",
    ") -> Generator[List[str], None, None]:\n",
    "    for i in range(0, len(sentences), batch_size):\n",
    "        yield sentences[i : i + batch_size]"
   ]
  },
  {
   "cell_type": "markdown",
   "id": "19e5f768-5aa7-4d39-ac8b-ac38193496cc",
   "metadata": {
    "tags": []
   },
   "source": [
    "### Funciones principal para generar los embeddings:"
   ]
  },
  {
   "cell_type": "markdown",
   "id": "0cdc822a-0753-453b-8513-3d4768c8f55f",
   "metadata": {
    "tags": []
   },
   "source": [
    "#### Función `encode_text_to_embedding_batched`\n",
    "\n",
    "Genera los embeddings utilizando llamando a la API por lotes. Esta función procesa los lotes y recupera embeddings de manera paralela, asegurando no superar el límite de llamadas API por segundo. Utiliza las funciones definidas anteriormente.\n",
    "\n",
    "##### Argumentos:\n",
    "- `sentences` (**List[str]**): Lista de frases a convertir en embeddings.\n",
    "- `api_calls_per_second` (**int**): Máximo número de llamadas API permitidas por segundo, default a 10.\n",
    "- `batch_size` (**int**): Número de frases en cada lote, default a 5.\n",
    "\n",
    "##### Salida:\n",
    "- **Tuple[List[bool], np.ndarray]**: Una tupla donde el primer elemento es una lista de booleanos que indica el éxito de la conversión para cada frase, y el segundo elemento es un array de NumPy conteniendo los embeddings generados para las frases exitosas.\n"
   ]
  },
  {
   "cell_type": "code",
   "execution_count": 10,
   "id": "45ee3ff6-6a8b-4eb2-b4ea-454ff761b79f",
   "metadata": {
    "tags": []
   },
   "outputs": [],
   "source": [
    "def encode_text_to_embedding_batched(\n",
    "    sentences: List[str], api_calls_per_second: int = 10, batch_size: int = 5\n",
    ") -> Tuple[List[bool], np.ndarray]:\n",
    "\n",
    "    embeddings_list: List[List[float]] = []\n",
    "\n",
    "    # Prepare the batches using a generator\n",
    "    batches = generate_batches(sentences, batch_size)\n",
    "\n",
    "    seconds_per_job = 1 / api_calls_per_second\n",
    "\n",
    "    with ThreadPoolExecutor() as executor:\n",
    "        futures = []\n",
    "        for batch in tqdm(\n",
    "            batches, total=math.ceil(len(sentences) / batch_size), position=0\n",
    "        ):\n",
    "            if isinstance(batch, list):\n",
    "                futures.append(\n",
    "                    executor.submit(functools.partial(encode_texts_to_embeddings), batch)\n",
    "                )\n",
    "            else:\n",
    "                futures.append(\n",
    "                    executor.submit(functools.partial(encode_texts_to_embeddings), batch.tolist())\n",
    "                )\n",
    "            time.sleep(seconds_per_job)\n",
    "\n",
    "        for future in futures:\n",
    "            embeddings_list.extend(future.result())\n",
    "\n",
    "    is_successful = [\n",
    "        embedding is not None for sentence, embedding in zip(sentences, embeddings_list)\n",
    "    ]\n",
    "\n",
    "    embeddings_list_successful = np.squeeze(\n",
    "        np.stack([embedding for embedding in embeddings_list if embedding is not None])\n",
    "    )\n",
    "    return is_successful, embeddings_list_successful"
   ]
  },
  {
   "cell_type": "markdown",
   "id": "3774a736-b12b-45c8-af58-32a034dbf0cf",
   "metadata": {
    "tags": []
   },
   "source": [
    "### Realizamos una prueba utilizando el df generado anteriormente (1 chunk de nuestra tabla):"
   ]
  },
  {
   "cell_type": "code",
   "execution_count": 11,
   "id": "2ecdcf60-5c69-4d55-94cb-86605933ea94",
   "metadata": {
    "tags": []
   },
   "outputs": [
    {
     "data": {
      "application/vnd.jupyter.widget-view+json": {
       "model_id": "671eae769a2546409c4ebae3406950c1",
       "version_major": 2,
       "version_minor": 0
      },
      "text/plain": [
       "  0%|          | 0/100 [00:00<?, ?it/s]"
      ]
     },
     "metadata": {},
     "output_type": "display_data"
    }
   ],
   "source": [
    "# Encode a subset of questions for validation\n",
    "questions = df.text_to_index.tolist()[:500]\n",
    "is_successful, question_embeddings = encode_text_to_embedding_batched(\n",
    "    sentences=df.text_to_index.tolist()[:500]\n",
    ")\n",
    "\n",
    "# Filter for successfully embedded sentences\n",
    "questions = np.array(questions)[is_successful]"
   ]
  },
  {
   "cell_type": "code",
   "execution_count": 12,
   "id": "1e86f248-6bf5-416e-b337-21434588762d",
   "metadata": {
    "tags": []
   },
   "outputs": [
    {
     "name": "stdout",
     "output_type": "stream",
     "text": [
      "768\n"
     ]
    }
   ],
   "source": [
    "DIMENSIONS = len(question_embeddings[0])\n",
    "\n",
    "print(DIMENSIONS)"
   ]
  },
  {
   "cell_type": "markdown",
   "id": "23d0fd0d-9993-49f0-b6d6-b93eb8aac6cb",
   "metadata": {
    "tags": []
   },
   "source": [
    "#### Comprobamos la similitud entre los embeddings generados\n",
    "\n",
    "Cogemos un ejemplo al azar para ver la similitud que tiene con el resto de items\n",
    "\n",
    "1. **Selección aleatoria**:\n",
    "   - Se selecciona un índice aleatorio entre 0 y 99.\n",
    "\n",
    "2. **Cálculo similitud**:\n",
    "   - Se calcula la similitud para el item seleccionado en comparación con el resto utilizando el producto escalar (`np.dot`).\n",
    "\n",
    "3. **Se muestran las 20 mejores coincidencias**:\n",
    "   - Se emparejan y ordenan los items originales con sus puntajes de similitud.\n"
   ]
  },
  {
   "cell_type": "code",
   "execution_count": 13,
   "id": "a6b9f558-33c2-40a4-8077-e75bf17cd8f4",
   "metadata": {
    "tags": []
   },
   "outputs": [
    {
     "name": "stdout",
     "output_type": "stream",
     "text": [
      "Query question = Category: Plus. Name: SPANXÂ® - In-Power Line Super Higher Power - Nude. Department: Women. Price: 38.0\n",
      "\t0: Category: Plus. Name: SPANXÂ® - In-Power Line Super Higher Power - Nude. Department: Women. Price: 38.0: 0.9999986505895756\n",
      "\t1: Category: Plus. Name: Sag Harbor Women's Slimming Panel Pant. Department: Women. Price: 28.0: 0.8505490673220277\n",
      "\t2: Category: Plus. Name: Velrose Snip-it Long Pant Liner. Department: Women. Price: 19.950000762939453: 0.8500964658424228\n",
      "\t3: Category: Plus. Name: Pamela Mann Plain Stripe Suspender Tights - Available in Medium XL & XXL & XXXL. Department: Women. Price: 17.950000762939453: 0.8376499054346906\n",
      "\t4: Category: Plus. Name: Bra Discs Nipple Covers Style 410x. Department: Women. Price: 21.350000381469727: 0.8360589049746044\n",
      "\t5: Category: Plus. Name: Lamaze Maternity Nursing Camisole. Department: Women. Price: 25.0: 0.82962320846486\n",
      "\t6: Category: Swim. Name: Womens Sexy Tie-Up Soft Spandex Halter Bikini Set. Department: Women. Price: 24.989999771118164: 0.8286964606733382\n",
      "\t7: Category: Plus. Name: Dr. Rey Shapewear Womens Firm Control High Waist Brief. Department: Women. Price: 25.40999984741211: 0.8237112816344745\n",
      "\t8: Category: Plus. Name: Shock Absorber Women's Run Sports Bra. Department: Women. Price: 79.0: 0.8191097912691883\n",
      "\t9: Category: Plus. Name: Dickies Women's Empire Waist Top. Department: Women. Price: 22.989999771118164: 0.8186882961980639\n",
      "\t10: Category: Plus. Name: Black Knit Ruffle Edge Poncho Shawl Cloak Wrap Cape. Department: Women. Price: 24.989999771118164: 0.816598750433069\n",
      "\t11: Category: Jeans. Name: Wallflower PLUS SIZE Fashion Basics Sassy Skinny Jeans. Department: Women. Price: 24.5: 0.8161267424329417\n",
      "\t12: Category: Plus. Name: Carnival Womens Full Figure Satin Torselette Bra. Department: Women. Price: 62.0: 0.8155398862527687\n",
      "\t13: Category: Plus. Name: Tri-Mountain Women's 1/4 Zip Fleece Pullover. 7110. Department: Women. Price: 36.9900016784668: 0.8138243715617375\n",
      "\t14: Category: Swim. Name: Inches Off Plus Size Cover-up board shorts Swim365. Department: Women. Price: 29.989999771118164: 0.8134589226684928\n",
      "\t15: Category: Swim. Name: Sexy Halter Monokini Open Back Zipper Bikini Swimsuit. Department: Women. Price: 38.9900016784668: 0.8125687494851023\n",
      "\t16: Category: Swim. Name: Inches Off Plus Size Swimsuit with colorblocking. Department: Women. Price: 49.9900016784668: 0.8118472926372808\n",
      "\t17: Category: Plus. Name: Inches Off Plus Size Swimsuit with colorblocking. Department: Women. Price: 49.9900016784668: 0.8110393162315983\n",
      "\t18: Category: Swim. Name: Sexy Two Piece Bandeau Ruched Brazilian Bikini Swimsuit. Department: Women. Price: 38.9900016784668: 0.8105231085987348\n",
      "\t19: Category: Jeans. Name: Silver Jeans Women Plus Size Jeans Tuesday Bootcut Indigo Wash. Department: Women. Price: 85.0: 0.8094463591970213\n"
     ]
    }
   ],
   "source": [
    "import random\n",
    "\n",
    "question_index = random.randint(0, 99)\n",
    "\n",
    "print(f\"Query question = {questions[question_index]}\")\n",
    "\n",
    "# Get similarity scores for each embedding by using dot-product.\n",
    "scores = np.dot(question_embeddings[question_index], question_embeddings.T)\n",
    "\n",
    "# Print top 20 matches\n",
    "for index, (question, score) in enumerate(\n",
    "    sorted(zip(questions, scores), key=lambda x: x[1], reverse=True)[:20]\n",
    "):\n",
    "    print(f\"\\t{index}: {question}: {score}\")"
   ]
  },
  {
   "cell_type": "markdown",
   "id": "678f8c72-3fba-4ead-b5c3-ebccad8cbd2e",
   "metadata": {
    "tags": []
   },
   "source": [
    "## Generamos los embeddings a partir de varios chunks y los guardamos en formato JSONL"
   ]
  },
  {
   "cell_type": "code",
   "execution_count": 14,
   "id": "71cf5666-b95e-4721-bd14-d55d9b929bc9",
   "metadata": {
    "tags": []
   },
   "outputs": [
    {
     "data": {
      "text/html": [
       "<div>\n",
       "<style scoped>\n",
       "    .dataframe tbody tr th:only-of-type {\n",
       "        vertical-align: middle;\n",
       "    }\n",
       "\n",
       "    .dataframe tbody tr th {\n",
       "        vertical-align: top;\n",
       "    }\n",
       "\n",
       "    .dataframe thead th {\n",
       "        text-align: right;\n",
       "    }\n",
       "</style>\n",
       "<table border=\"1\" class=\"dataframe\">\n",
       "  <thead>\n",
       "    <tr style=\"text-align: right;\">\n",
       "      <th></th>\n",
       "      <th>f0_</th>\n",
       "    </tr>\n",
       "  </thead>\n",
       "  <tbody>\n",
       "    <tr>\n",
       "      <th>0</th>\n",
       "      <td>3890</td>\n",
       "    </tr>\n",
       "  </tbody>\n",
       "</table>\n",
       "</div>"
      ],
      "text/plain": [
       "    f0_\n",
       "0  3890"
      ]
     },
     "execution_count": 14,
     "metadata": {},
     "output_type": "execute_result"
    }
   ],
   "source": [
    "from google.cloud import bigquery\n",
    "\n",
    "products_count = bigquery.Client().query(\"SELECT count(*) FROM `ia-ugr.ecommerce.products` WHERE distribution_center_id = 1 AND name IS NOT NULL\").to_dataframe()\n",
    "products_count.head()"
   ]
  },
  {
   "cell_type": "code",
   "execution_count": 15,
   "id": "de90292c-eeb3-4f4e-b9bd-40784339950e",
   "metadata": {
    "tags": []
   },
   "outputs": [
    {
     "name": "stdout",
     "output_type": "stream",
     "text": [
      "Embeddings directory: /var/tmp/tmpzsh4hrq6\n"
     ]
    }
   ],
   "source": [
    "import tempfile\n",
    "from pathlib import Path\n",
    "\n",
    "# Create temporary file to write embeddings to\n",
    "embeddings_file_path = Path(tempfile.mkdtemp())\n",
    "\n",
    "print(f\"Embeddings directory: {embeddings_file_path}\")"
   ]
  },
  {
   "cell_type": "code",
   "execution_count": 16,
   "id": "f61b09d6-97fe-416d-853d-25d51700bc5a",
   "metadata": {
    "tags": []
   },
   "outputs": [
    {
     "data": {
      "application/vnd.jupyter.widget-view+json": {
       "model_id": "f6526bc0dc9f4f209141af87679711ea",
       "version_major": 2,
       "version_minor": 0
      },
      "text/plain": [
       "Chunk of rows from BigQuery:   0%|          | 0/5 [00:00<?, ?it/s]"
      ]
     },
     "metadata": {},
     "output_type": "display_data"
    },
    {
     "data": {
      "application/vnd.jupyter.widget-view+json": {
       "model_id": "88f7cd5c570045a5b19f666bae18a899",
       "version_major": 2,
       "version_minor": 0
      },
      "text/plain": [
       "  0%|          | 0/78 [00:00<?, ?it/s]"
      ]
     },
     "metadata": {},
     "output_type": "display_data"
    },
    {
     "name": "stderr",
     "output_type": "stream",
     "text": [
      "IOPub data rate exceeded.\n",
      "The Jupyter server will temporarily stop sending output\n",
      "to the client in order to avoid crashing it.\n",
      "To change this limit, set the config variable\n",
      "`--ServerApp.iopub_data_rate_limit`.\n",
      "\n",
      "Current values:\n",
      "ServerApp.iopub_data_rate_limit=1000000.0 (bytes/sec)\n",
      "ServerApp.rate_limit_window=3.0 (secs)\n",
      "\n"
     ]
    },
    {
     "data": {
      "application/vnd.jupyter.widget-view+json": {
       "model_id": "3aa654729db843f0ae4aa01a2893f0a1",
       "version_major": 2,
       "version_minor": 0
      },
      "text/plain": [
       "  0%|          | 0/78 [00:00<?, ?it/s]"
      ]
     },
     "metadata": {},
     "output_type": "display_data"
    },
    {
     "name": "stderr",
     "output_type": "stream",
     "text": [
      "IOPub data rate exceeded.\n",
      "The Jupyter server will temporarily stop sending output\n",
      "to the client in order to avoid crashing it.\n",
      "To change this limit, set the config variable\n",
      "`--ServerApp.iopub_data_rate_limit`.\n",
      "\n",
      "Current values:\n",
      "ServerApp.iopub_data_rate_limit=1000000.0 (bytes/sec)\n",
      "ServerApp.rate_limit_window=3.0 (secs)\n",
      "\n"
     ]
    },
    {
     "data": {
      "application/vnd.jupyter.widget-view+json": {
       "model_id": "54807d68f9f442409fe4fe25f7c1f23e",
       "version_major": 2,
       "version_minor": 0
      },
      "text/plain": [
       "  0%|          | 0/78 [00:00<?, ?it/s]"
      ]
     },
     "metadata": {},
     "output_type": "display_data"
    },
    {
     "name": "stderr",
     "output_type": "stream",
     "text": [
      "IOPub data rate exceeded.\n",
      "The Jupyter server will temporarily stop sending output\n",
      "to the client in order to avoid crashing it.\n",
      "To change this limit, set the config variable\n",
      "`--ServerApp.iopub_data_rate_limit`.\n",
      "\n",
      "Current values:\n",
      "ServerApp.iopub_data_rate_limit=1000000.0 (bytes/sec)\n",
      "ServerApp.rate_limit_window=3.0 (secs)\n",
      "\n"
     ]
    },
    {
     "data": {
      "application/vnd.jupyter.widget-view+json": {
       "model_id": "2c1aa2bc5205465bb9c01fc67a72c658",
       "version_major": 2,
       "version_minor": 0
      },
      "text/plain": [
       "  0%|          | 0/78 [00:00<?, ?it/s]"
      ]
     },
     "metadata": {},
     "output_type": "display_data"
    },
    {
     "name": "stderr",
     "output_type": "stream",
     "text": [
      "IOPub data rate exceeded.\n",
      "The Jupyter server will temporarily stop sending output\n",
      "to the client in order to avoid crashing it.\n",
      "To change this limit, set the config variable\n",
      "`--ServerApp.iopub_data_rate_limit`.\n",
      "\n",
      "Current values:\n",
      "ServerApp.iopub_data_rate_limit=1000000.0 (bytes/sec)\n",
      "ServerApp.rate_limit_window=3.0 (secs)\n",
      "\n"
     ]
    },
    {
     "data": {
      "application/vnd.jupyter.widget-view+json": {
       "model_id": "1a3a390c3c5e4847938123992127a76b",
       "version_major": 2,
       "version_minor": 0
      },
      "text/plain": [
       "  0%|          | 0/78 [00:00<?, ?it/s]"
      ]
     },
     "metadata": {},
     "output_type": "display_data"
    },
    {
     "name": "stderr",
     "output_type": "stream",
     "text": [
      "IOPub data rate exceeded.\n",
      "The Jupyter server will temporarily stop sending output\n",
      "to the client in order to avoid crashing it.\n",
      "To change this limit, set the config variable\n",
      "`--ServerApp.iopub_data_rate_limit`.\n",
      "\n",
      "Current values:\n",
      "ServerApp.iopub_data_rate_limit=1000000.0 (bytes/sec)\n",
      "ServerApp.rate_limit_window=3.0 (secs)\n",
      "\n"
     ]
    }
   ],
   "source": [
    "import gc\n",
    "import json\n",
    "\n",
    "BQ_NUM_ROWS = 3890\n",
    "BQ_CHUNK_SIZE = 778\n",
    "BQ_NUM_CHUNKS = math.ceil(BQ_NUM_ROWS / BQ_CHUNK_SIZE)\n",
    "\n",
    "START_CHUNK = 0\n",
    "\n",
    "# Create a rate limit of 300 requests per minute. Adjust this depending on your quota.\n",
    "API_CALLS_PER_SECOND = 300 / 60\n",
    "# According to the docs, each request can process 5 instances per request\n",
    "ITEMS_PER_REQUEST = 10\n",
    "\n",
    "# Loop through each generated dataframe, convert\n",
    "for i, df in tqdm(\n",
    "    enumerate(\n",
    "        query_bigquery_chunks(\n",
    "            max_rows=BQ_NUM_ROWS, rows_per_chunk=BQ_CHUNK_SIZE, start_chunk=START_CHUNK\n",
    "        )\n",
    "    ),\n",
    "    total=BQ_NUM_CHUNKS - START_CHUNK,\n",
    "    position=-1,\n",
    "    desc=\"Chunk of rows from BigQuery\",\n",
    "):\n",
    "    # Create a unique output file for each chunk\n",
    "    chunk_path = embeddings_file_path.joinpath(\n",
    "        f\"{embeddings_file_path.stem}_{i+START_CHUNK}.json\"\n",
    "    )\n",
    "    with open(chunk_path, \"a\") as f:\n",
    "        id_chunk = df.id\n",
    "\n",
    "        # Convert batch to embeddings\n",
    "        is_successful, question_chunk_embeddings = encode_text_to_embedding_batched(\n",
    "            sentences=df.text_to_index,\n",
    "            api_calls_per_second=API_CALLS_PER_SECOND,\n",
    "            batch_size=ITEMS_PER_REQUEST,\n",
    "        )\n",
    "\n",
    "        # Append to file\n",
    "        embeddings_formatted = [\n",
    "            json.dumps(\n",
    "                {\n",
    "                    \"id\": str(id),\n",
    "                    \"content\": str(df[\"text_to_index\"].astype(str)),\n",
    "                    \"embedding\": [str(value) for value in embedding],\n",
    "                }\n",
    "            )\n",
    "            + \"\\n\"\n",
    "            for id, embedding in zip(id_chunk[is_successful], question_chunk_embeddings)\n",
    "        ]\n",
    "        \n",
    "        print(\"Ejemplo del embedding\")\n",
    "        print(embeddings_formatted)\n",
    "        \n",
    "        f.writelines(embeddings_formatted)\n",
    "\n",
    "        # Delete the DataFrame and any other large data structures\n",
    "        del df\n",
    "        gc.collect()"
   ]
  },
  {
   "cell_type": "markdown",
   "id": "db724d61-18b0-4527-9e30-a6f3d51808cc",
   "metadata": {
    "tags": []
   },
   "source": [
    "### Creamos un bucket para guardar los embeddings generados"
   ]
  },
  {
   "cell_type": "code",
   "execution_count": 17,
   "id": "dd709baa-0bec-4c5d-a1cc-e605136fc3d5",
   "metadata": {
    "tags": []
   },
   "outputs": [],
   "source": [
    "BUCKET_URI = f\"gs://bucket-{PROJECT_ID}-{ALUMNO}\""
   ]
  },
  {
   "cell_type": "code",
   "execution_count": 18,
   "id": "41522091-d50e-4ef0-89ef-c52dd1206c19",
   "metadata": {
    "tags": []
   },
   "outputs": [
    {
     "name": "stdout",
     "output_type": "stream",
     "text": [
      "Creating gs://bucket-ia-ugr-civica/...\n"
     ]
    }
   ],
   "source": [
    "! gsutil mb -l {REGION} -p {PROJECT_ID} {BUCKET_URI}"
   ]
  },
  {
   "cell_type": "code",
   "execution_count": 19,
   "id": "ac3ee830-f8ac-4d40-ba5e-6e953e5657f2",
   "metadata": {
    "tags": []
   },
   "outputs": [
    {
     "name": "stdout",
     "output_type": "stream",
     "text": [
      "Copying file:///var/tmp/tmpzsh4hrq6/tmpzsh4hrq6_0.json [Content-Type=application/json]...\n",
      "Copying file:///var/tmp/tmpzsh4hrq6/tmpzsh4hrq6_1.json [Content-Type=application/json]...\n",
      "Copying file:///var/tmp/tmpzsh4hrq6/tmpzsh4hrq6_2.json [Content-Type=application/json]...\n",
      "Copying file:///var/tmp/tmpzsh4hrq6/tmpzsh4hrq6_3.json [Content-Type=application/json]...\n",
      "Copying file:///var/tmp/tmpzsh4hrq6/tmpzsh4hrq6_4.json [Content-Type=application/json]...\n",
      "\\ [5/5 files][ 71.4 MiB/ 71.4 MiB] 100% Done                                    \n",
      "Operation completed over 5 objects/71.4 MiB.                                     \n"
     ]
    }
   ],
   "source": [
    "remote_folder = f\"{BUCKET_URI}/{embeddings_file_path.stem}/\"\n",
    "! gsutil -m cp -r {embeddings_file_path}/* {remote_folder}"
   ]
  },
  {
   "cell_type": "markdown",
   "id": "3f7d7adc-32c7-494c-84ef-ae975af88459",
   "metadata": {
    "tags": []
   },
   "source": [
    "# Creamos el índice"
   ]
  },
  {
   "cell_type": "code",
   "execution_count": 20,
   "id": "06998102-65c0-430c-9b2b-ff952c837fdc",
   "metadata": {
    "tags": []
   },
   "outputs": [],
   "source": [
    "DISPLAY_NAME = \"ecommerce\"\n",
    "DESCRIPTION = \"products data\""
   ]
  },
  {
   "cell_type": "code",
   "execution_count": 21,
   "id": "5850c540-034e-457e-88e3-c34a2038ca23",
   "metadata": {
    "tags": []
   },
   "outputs": [],
   "source": [
    "from google.cloud import aiplatform\n",
    "\n",
    "aiplatform.init(project=PROJECT_ID, location=REGION, staging_bucket=BUCKET_URI)"
   ]
  },
  {
   "cell_type": "code",
   "execution_count": null,
   "id": "241cb734-92d2-4ed6-9571-81e39bedf161",
   "metadata": {
    "tags": []
   },
   "outputs": [
    {
     "name": "stdout",
     "output_type": "stream",
     "text": [
      "Creating MatchingEngineIndex\n",
      "Create MatchingEngineIndex backing LRO: projects/1043238928011/locations/us-central1/indexes/2793590765341638656/operations/7479610950992003072\n",
      "MatchingEngineIndex created. Resource name: projects/1043238928011/locations/us-central1/indexes/2793590765341638656\n",
      "To use this MatchingEngineIndex in another session:\n",
      "index = aiplatform.MatchingEngineIndex('projects/1043238928011/locations/us-central1/indexes/2793590765341638656')\n"
     ]
    }
   ],
   "source": [
    "DIMENSIONS = 768\n",
    "\n",
    "tree_ah_index = aiplatform.MatchingEngineIndex.create_tree_ah_index(\n",
    "    display_name=DISPLAY_NAME,\n",
    "    contents_delta_uri=remote_folder,\n",
    "    dimensions=DIMENSIONS,\n",
    "    approximate_neighbors_count=150,\n",
    "    distance_measure_type=\"DOT_PRODUCT_DISTANCE\",\n",
    "    leaf_node_embedding_count=500,\n",
    "    leaf_nodes_to_search_percent=80,\n",
    "    description=DESCRIPTION,\n",
    ")"
   ]
  },
  {
   "cell_type": "code",
   "execution_count": null,
   "id": "d32b30dd-1a81-43a3-860d-d5239b577013",
   "metadata": {
    "tags": []
   },
   "outputs": [
    {
     "data": {
      "text/plain": [
       "'projects/1043238928011/locations/us-central1/indexes/2793590765341638656'"
      ]
     },
     "execution_count": 23,
     "metadata": {},
     "output_type": "execute_result"
    }
   ],
   "source": [
    "INDEX_RESOURCE_NAME = tree_ah_index.resource_name\n",
    "INDEX_RESOURCE_NAME"
   ]
  },
  {
   "cell_type": "code",
   "execution_count": null,
   "id": "b3eb363d-7ea8-43ac-9fa9-655dfb0d9f26",
   "metadata": {
    "tags": []
   },
   "outputs": [],
   "source": [
    "tree_ah_index = aiplatform.MatchingEngineIndex(index_name=INDEX_RESOURCE_NAME)"
   ]
  },
  {
   "cell_type": "markdown",
   "id": "a53398c9-96cd-4fc8-b4a1-36f113ce9d51",
   "metadata": {
    "tags": []
   },
   "source": [
    "# Creamos el endpoint y lo desplegamos"
   ]
  },
  {
   "cell_type": "code",
   "execution_count": null,
   "id": "f2e8d1b5-90a9-400e-a839-eda921bd64db",
   "metadata": {
    "tags": []
   },
   "outputs": [
    {
     "name": "stdout",
     "output_type": "stream",
     "text": [
      "Creating MatchingEngineIndexEndpoint\n",
      "Create MatchingEngineIndexEndpoint backing LRO: projects/1043238928011/locations/us-central1/indexEndpoints/6459098649556156416/operations/8589185309185409024\n",
      "MatchingEngineIndexEndpoint created. Resource name: projects/1043238928011/locations/us-central1/indexEndpoints/6459098649556156416\n",
      "To use this MatchingEngineIndexEndpoint in another session:\n",
      "index_endpoint = aiplatform.MatchingEngineIndexEndpoint('projects/1043238928011/locations/us-central1/indexEndpoints/6459098649556156416')\n"
     ]
    }
   ],
   "source": [
    "my_index_endpoint = aiplatform.MatchingEngineIndexEndpoint.create(\n",
    "    display_name=DISPLAY_NAME,\n",
    "    description=DISPLAY_NAME,\n",
    "    public_endpoint_enabled=True,\n",
    ")"
   ]
  },
  {
   "cell_type": "code",
   "execution_count": null,
   "id": "f9118112-c67c-4d66-8cad-e700fec68897",
   "metadata": {
    "tags": []
   },
   "outputs": [
    {
     "data": {
      "text/plain": [
       "'products_data_index_civica'"
      ]
     },
     "execution_count": 26,
     "metadata": {},
     "output_type": "execute_result"
    }
   ],
   "source": [
    "DEPLOYED_INDEX_ID = f\"products_data_index_{ALUMNO}\"\n",
    "\n",
    "DEPLOYED_INDEX_ID"
   ]
  },
  {
   "cell_type": "code",
   "execution_count": null,
   "id": "191cc063-4b74-4668-a52e-1aa3414f8c0a",
   "metadata": {
    "tags": []
   },
   "outputs": [
    {
     "name": "stdout",
     "output_type": "stream",
     "text": [
      "Deploying index MatchingEngineIndexEndpoint index_endpoint: projects/1043238928011/locations/us-central1/indexEndpoints/6459098649556156416\n",
      "Deploy index MatchingEngineIndexEndpoint index_endpoint backing LRO: projects/1043238928011/locations/us-central1/indexEndpoints/6459098649556156416/operations/6115020263898742784\n",
      "MatchingEngineIndexEndpoint index_endpoint Deployed index. Resource name: projects/1043238928011/locations/us-central1/indexEndpoints/6459098649556156416\n"
     ]
    },
    {
     "data": {
      "text/plain": [
       "[id: \"products_data_index_civica\"\n",
       "index: \"projects/1043238928011/locations/us-central1/indexes/2793590765341638656\"\n",
       "create_time {\n",
       "  seconds: 1713509219\n",
       "  nanos: 305780000\n",
       "}\n",
       "index_sync_time {\n",
       "  seconds: 1713510126\n",
       "  nanos: 345456000\n",
       "}\n",
       "automatic_resources {\n",
       "  min_replica_count: 2\n",
       "  max_replica_count: 2\n",
       "}\n",
       "deployment_group: \"default\"\n",
       "]"
      ]
     },
     "execution_count": 27,
     "metadata": {},
     "output_type": "execute_result"
    }
   ],
   "source": [
    "my_index_endpoint = my_index_endpoint.deploy_index(\n",
    "    index=tree_ah_index, deployed_index_id=DEPLOYED_INDEX_ID\n",
    ")\n",
    "\n",
    "my_index_endpoint.deployed_indexes"
   ]
  },
  {
   "cell_type": "markdown",
   "id": "47e2de8f-b6d6-4294-9c97-f2c561b79bef",
   "metadata": {
    "tags": []
   },
   "source": [
    "## Verificamos que el número de items se corresponde con el número de embeddings"
   ]
  },
  {
   "cell_type": "code",
   "execution_count": null,
   "id": "05cd72a6-0674-42bd-8f8a-bc8de9ed41c6",
   "metadata": {
    "tags": []
   },
   "outputs": [
    {
     "name": "stdout",
     "output_type": "stream",
     "text": [
      "Expected: 3890, Actual: 3890\n"
     ]
    }
   ],
   "source": [
    "number_of_vectors = sum(\n",
    "    aiplatform.MatchingEngineIndex(\n",
    "        deployed_index.index\n",
    "    )._gca_resource.index_stats.vectors_count\n",
    "    for deployed_index in my_index_endpoint.deployed_indexes\n",
    ")\n",
    "\n",
    "print(f\"Expected: {BQ_NUM_ROWS}, Actual: {number_of_vectors}\")"
   ]
  },
  {
   "cell_type": "markdown",
   "id": "d99f14c5-8eeb-4460-8e8c-327fb99cbe34",
   "metadata": {
    "tags": []
   },
   "source": [
    "# Borramos el endpoint y el bucket"
   ]
  },
  {
   "cell_type": "code",
   "execution_count": null,
   "id": "6c1cd90f-e15e-49fe-b84c-95099b4a5c54",
   "metadata": {},
   "outputs": [],
   "source": [
    "# import os\n",
    "\n",
    "# delete_bucket = False\n",
    "\n",
    "# # Force undeployment of indexes and delete endpoint\n",
    "# my_index_endpoint.delete(force=True)\n",
    "\n",
    "# # Delete indexes\n",
    "# tree_ah_index.delete()\n",
    "\n",
    "# if delete_bucket or os.getenv(\"IS_TESTING\"):\n",
    "#     ! gsutil rm -rf {BUCKET_URI}"
   ]
  }
 ],
 "metadata": {
  "environment": {
   "kernel": "conda-root-py",
   "name": "workbench-notebooks.m119",
   "type": "gcloud",
   "uri": "us-docker.pkg.dev/deeplearning-platform-release/gcr.io/workbench-notebooks:m119"
  },
  "kernelspec": {
   "display_name": "Python 3 (ipykernel) (Local)",
   "language": "python",
   "name": "conda-root-py"
  },
  "language_info": {
   "codemirror_mode": {
    "name": "ipython",
    "version": 3
   },
   "file_extension": ".py",
   "mimetype": "text/x-python",
   "name": "python",
   "nbconvert_exporter": "python",
   "pygments_lexer": "ipython3",
   "version": "3.10.14"
  }
 },
 "nbformat": 4,
 "nbformat_minor": 5
}
