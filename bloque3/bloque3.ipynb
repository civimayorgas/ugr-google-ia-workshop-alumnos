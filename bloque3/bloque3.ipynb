{
 "cells": [
  {
   "cell_type": "markdown",
   "id": "b0995873-dc61-4b92-a8cc-d24c21cc7853",
   "metadata": {},
   "source": [
    "# Bloque 3"
   ]
  },
  {
   "cell_type": "markdown",
   "id": "d7b12fc1-c580-49b9-9955-37e346af74e0",
   "metadata": {
    "tags": []
   },
   "source": [
    "# Obtener producto del prompt del usuario para generar el embedding"
   ]
  },
  {
   "cell_type": "code",
   "execution_count": 1,
   "id": "b2a69d50-3fae-4f05-8307-0c95ecf4ac37",
   "metadata": {
    "tags": []
   },
   "outputs": [
    {
     "name": "stdout",
     "output_type": "stream",
     "text": [
      "Collecting langchain_google_genai\n",
      "  Using cached langchain_google_genai-1.0.2-py3-none-any.whl.metadata (3.8 kB)\n",
      "Collecting google-generativeai<0.6.0,>=0.5.0 (from langchain_google_genai)\n",
      "  Using cached google_generativeai-0.5.2-py3-none-any.whl.metadata (3.9 kB)\n",
      "Requirement already satisfied: langchain-core<0.2,>=0.1.27 in /opt/conda/lib/python3.10/site-packages (from langchain_google_genai) (0.1.43)\n",
      "Collecting google-ai-generativelanguage==0.6.2 (from google-generativeai<0.6.0,>=0.5.0->langchain_google_genai)\n",
      "  Using cached google_ai_generativelanguage-0.6.2-py3-none-any.whl.metadata (5.6 kB)\n",
      "Requirement already satisfied: google-api-core in /opt/conda/lib/python3.10/site-packages (from google-generativeai<0.6.0,>=0.5.0->langchain_google_genai) (2.18.0)\n",
      "Requirement already satisfied: google-api-python-client in /opt/conda/lib/python3.10/site-packages (from google-generativeai<0.6.0,>=0.5.0->langchain_google_genai) (2.125.0)\n",
      "Requirement already satisfied: google-auth>=2.15.0 in /opt/conda/lib/python3.10/site-packages (from google-generativeai<0.6.0,>=0.5.0->langchain_google_genai) (2.29.0)\n",
      "Requirement already satisfied: protobuf in /opt/conda/lib/python3.10/site-packages (from google-generativeai<0.6.0,>=0.5.0->langchain_google_genai) (4.25.3)\n",
      "Requirement already satisfied: pydantic in /opt/conda/lib/python3.10/site-packages (from google-generativeai<0.6.0,>=0.5.0->langchain_google_genai) (2.7.0)\n",
      "Requirement already satisfied: tqdm in /opt/conda/lib/python3.10/site-packages (from google-generativeai<0.6.0,>=0.5.0->langchain_google_genai) (4.66.2)\n",
      "Requirement already satisfied: typing-extensions in /opt/conda/lib/python3.10/site-packages (from google-generativeai<0.6.0,>=0.5.0->langchain_google_genai) (4.10.0)\n",
      "Requirement already satisfied: proto-plus<2.0.0dev,>=1.22.3 in /opt/conda/lib/python3.10/site-packages (from google-ai-generativelanguage==0.6.2->google-generativeai<0.6.0,>=0.5.0->langchain_google_genai) (1.23.0)\n",
      "Requirement already satisfied: PyYAML>=5.3 in /opt/conda/lib/python3.10/site-packages (from langchain-core<0.2,>=0.1.27->langchain_google_genai) (6.0.1)\n",
      "Requirement already satisfied: jsonpatch<2.0,>=1.33 in /opt/conda/lib/python3.10/site-packages (from langchain-core<0.2,>=0.1.27->langchain_google_genai) (1.33)\n",
      "Requirement already satisfied: langsmith<0.2.0,>=0.1.0 in /opt/conda/lib/python3.10/site-packages (from langchain-core<0.2,>=0.1.27->langchain_google_genai) (0.1.48)\n",
      "Requirement already satisfied: packaging<24.0,>=23.2 in /opt/conda/lib/python3.10/site-packages (from langchain-core<0.2,>=0.1.27->langchain_google_genai) (23.2)\n",
      "Requirement already satisfied: tenacity<9.0.0,>=8.1.0 in /opt/conda/lib/python3.10/site-packages (from langchain-core<0.2,>=0.1.27->langchain_google_genai) (8.2.3)\n",
      "Requirement already satisfied: googleapis-common-protos<2.0.dev0,>=1.56.2 in /opt/conda/lib/python3.10/site-packages (from google-api-core->google-generativeai<0.6.0,>=0.5.0->langchain_google_genai) (1.63.0)\n",
      "Requirement already satisfied: requests<3.0.0.dev0,>=2.18.0 in /opt/conda/lib/python3.10/site-packages (from google-api-core->google-generativeai<0.6.0,>=0.5.0->langchain_google_genai) (2.31.0)\n",
      "Requirement already satisfied: cachetools<6.0,>=2.0.0 in /opt/conda/lib/python3.10/site-packages (from google-auth>=2.15.0->google-generativeai<0.6.0,>=0.5.0->langchain_google_genai) (5.3.3)\n",
      "Requirement already satisfied: pyasn1-modules>=0.2.1 in /opt/conda/lib/python3.10/site-packages (from google-auth>=2.15.0->google-generativeai<0.6.0,>=0.5.0->langchain_google_genai) (0.4.0)\n",
      "Requirement already satisfied: rsa<5,>=3.1.4 in /opt/conda/lib/python3.10/site-packages (from google-auth>=2.15.0->google-generativeai<0.6.0,>=0.5.0->langchain_google_genai) (4.9)\n",
      "Requirement already satisfied: jsonpointer>=1.9 in /opt/conda/lib/python3.10/site-packages (from jsonpatch<2.0,>=1.33->langchain-core<0.2,>=0.1.27->langchain_google_genai) (2.4)\n",
      "Requirement already satisfied: orjson<4.0.0,>=3.9.14 in /opt/conda/lib/python3.10/site-packages (from langsmith<0.2.0,>=0.1.0->langchain-core<0.2,>=0.1.27->langchain_google_genai) (3.10.1)\n",
      "Requirement already satisfied: annotated-types>=0.4.0 in /opt/conda/lib/python3.10/site-packages (from pydantic->google-generativeai<0.6.0,>=0.5.0->langchain_google_genai) (0.6.0)\n",
      "Requirement already satisfied: pydantic-core==2.18.1 in /opt/conda/lib/python3.10/site-packages (from pydantic->google-generativeai<0.6.0,>=0.5.0->langchain_google_genai) (2.18.1)\n",
      "\u001b[31mERROR: Could not install packages due to an OSError: [Errno 2] No such file or directory: '/opt/conda/lib/python3.10/site-packages/typing_extensions-4.10.0.dist-info/METADATA'\n",
      "\u001b[0m\u001b[31m\n",
      "\u001b[0m"
     ]
    }
   ],
   "source": [
    "!pip install langchain_google_genai"
   ]
  },
  {
   "cell_type": "code",
   "execution_count": 2,
   "id": "d6222e0e-75e4-46b6-ab26-b28eb7e0a8d5",
   "metadata": {
    "tags": []
   },
   "outputs": [],
   "source": [
    "from google.cloud import aiplatform_v1\n",
    "import streamlit as st \n",
    "from google.cloud import bigquery\n",
    "from langchain_google_vertexai.llms import VertexAI\n",
    "from langchain.prompts import PromptTemplate\n",
    "import vertexai\n",
    "import os\n",
    "from langchain_google_vertexai import VertexAIEmbeddings"
   ]
  },
  {
   "cell_type": "markdown",
   "id": "a028cea8-5ec5-4466-9c90-560d3ac43c51",
   "metadata": {
    "tags": []
   },
   "source": [
    "### Definimos Gemini como nuestro LLM así como el template para extraer el producto del mensaje del usuario"
   ]
  },
  {
   "cell_type": "code",
   "execution_count": 3,
   "id": "5cb6c9ab-9f08-4f89-979f-53ba82a3c8ed",
   "metadata": {
    "tags": []
   },
   "outputs": [],
   "source": [
    "llm = VertexAI(model_name=\"gemini-pro\", temperature=0.1)"
   ]
  },
  {
   "cell_type": "code",
   "execution_count": 4,
   "id": "acc458f3-e6e5-497e-8874-a1c3310390bd",
   "metadata": {
    "tags": []
   },
   "outputs": [],
   "source": [
    "embedding_template = \"\"\"Describe el producto del que se habla {question}\"\"\""
   ]
  },
  {
   "cell_type": "code",
   "execution_count": 5,
   "id": "17a6856b-fc9a-4364-b760-b709e6f3c891",
   "metadata": {
    "tags": []
   },
   "outputs": [],
   "source": [
    "prompt_embedding_template = PromptTemplate.from_template(embedding_template)"
   ]
  },
  {
   "cell_type": "markdown",
   "id": "a812ed9d-17ff-44a1-af82-151825b71cb7",
   "metadata": {},
   "source": [
    "### Definimos la cadena que genera el template, pasa éste al LLM y obtiene su respuesta"
   ]
  },
  {
   "cell_type": "code",
   "execution_count": 6,
   "id": "3bf70930-d6f7-4642-a227-f957dcc2f3da",
   "metadata": {
    "tags": []
   },
   "outputs": [],
   "source": [
    "embedding_chain = prompt_embedding_template | llm"
   ]
  },
  {
   "cell_type": "code",
   "execution_count": 7,
   "id": "c1185d2a-7ccc-4998-b4d9-672e8a99d9c9",
   "metadata": {
    "tags": []
   },
   "outputs": [],
   "source": [
    "prompt = \"Hola, qué tal, quiero unos vaqueros azules de talla pequeña porque tengo una fiesta mañana\""
   ]
  },
  {
   "cell_type": "code",
   "execution_count": 8,
   "id": "201742ab-c478-4cc5-af40-43d456b5521b",
   "metadata": {
    "tags": []
   },
   "outputs": [
    {
     "name": "stdout",
     "output_type": "stream",
     "text": [
      "El producto del que se habla es un par de vaqueros azules de talla pequeña. La persona que habla quiere comprarlos porque tiene una fiesta al día siguiente.\n"
     ]
    }
   ],
   "source": [
    "prompt_embedding = embedding_chain.invoke({\"question\": prompt})\n",
    "print(prompt_embedding)"
   ]
  },
  {
   "cell_type": "markdown",
   "id": "f6700a93-c30a-4b00-a1ca-2a6f1fd806a6",
   "metadata": {},
   "source": [
    "# Obtener producto más similar y recomendarlo"
   ]
  },
  {
   "cell_type": "markdown",
   "id": "2751fed2-aef9-4346-847a-68a31ad90137",
   "metadata": {
    "tags": []
   },
   "source": [
    "### Obtenemos el producto más similar (sql_result) como en el bloque2"
   ]
  },
  {
   "cell_type": "markdown",
   "id": "65ddc09a-db6e-4ea0-9d7e-68b624cfcff1",
   "metadata": {},
   "source": [
    "#### VertexAIEmbeddings para generar embedding"
   ]
  },
  {
   "cell_type": "code",
   "execution_count": 9,
   "id": "96dca315-cddd-4050-a520-c4d3e8585aa0",
   "metadata": {
    "tags": []
   },
   "outputs": [],
   "source": [
    "import vertexai\n",
    "from langchain_google_vertexai import VertexAIEmbeddings\n",
    "\n",
    "# Obtención embeddings\n",
    "embeddings = VertexAIEmbeddings(model_name=\"textembedding-gecko@001\")   "
   ]
  },
  {
   "cell_type": "markdown",
   "id": "d895e32e-2bef-4042-af45-27deade78a11",
   "metadata": {},
   "source": [
    "#### Generamos embedding y hacemos la búsqueda de vecinos más cercanos a éste en nuestro índice"
   ]
  },
  {
   "cell_type": "code",
   "execution_count": null,
   "id": "50859997-c14b-4c3b-8152-291eb2673998",
   "metadata": {
    "tags": []
   },
   "outputs": [],
   "source": []
  },
  {
   "cell_type": "markdown",
   "id": "b4b6115c-6108-4e13-83b0-4d56d3cca867",
   "metadata": {},
   "source": [
    "#### Obtenemos más información de Big Query"
   ]
  },
  {
   "cell_type": "code",
   "execution_count": null,
   "id": "fcda3234-6732-4e16-b134-36396b48c669",
   "metadata": {
    "tags": []
   },
   "outputs": [],
   "source": []
  },
  {
   "cell_type": "markdown",
   "id": "0669c8aa-d262-483b-998a-ab9777cc4731",
   "metadata": {
    "tags": []
   },
   "source": [
    "### Definimos el template con el cual a partir del mensaje del usuario y el resultado más similar encontrado en BBDD obtendremos la recomendación del producto"
   ]
  },
  {
   "cell_type": "code",
   "execution_count": 10,
   "id": "9db4c453-444f-4796-93c2-956f740a73e1",
   "metadata": {
    "tags": []
   },
   "outputs": [],
   "source": [
    "template = \"\"\"Un usuario te pregunta lo siguiente: {question}\n",
    "\n",
    "En nuestra tienda tenemos: {most_similar}\n",
    "\n",
    "Dile al cliente nuestra recomendación.\"\"\""
   ]
  },
  {
   "cell_type": "code",
   "execution_count": 11,
   "id": "ada6d616-5c66-45a7-b164-10f47ff84de6",
   "metadata": {
    "tags": []
   },
   "outputs": [],
   "source": [
    "prompt_template = PromptTemplate.from_template(template)"
   ]
  },
  {
   "cell_type": "markdown",
   "id": "41b060c5-4cfc-4145-b156-eda3ef59827f",
   "metadata": {
    "tags": []
   },
   "source": [
    "### Definimos la cadena que genera el template, pasa éste al LLM y obtiene su respuesta"
   ]
  },
  {
   "cell_type": "code",
   "execution_count": 12,
   "id": "05511fc1-a226-4ef7-be05-b66f88c8e6f6",
   "metadata": {
    "tags": []
   },
   "outputs": [],
   "source": [
    "chain = prompt_template | llm"
   ]
  },
  {
   "cell_type": "code",
   "execution_count": 13,
   "id": "736fb5d3-96a2-4786-8004-e13198409023",
   "metadata": {
    "tags": []
   },
   "outputs": [
    {
     "ename": "NameError",
     "evalue": "name 'sql_result' is not defined",
     "output_type": "error",
     "traceback": [
      "\u001b[0;31m---------------------------------------------------------------------------\u001b[0m",
      "\u001b[0;31mNameError\u001b[0m                                 Traceback (most recent call last)",
      "Cell \u001b[0;32mIn[13], line 1\u001b[0m\n\u001b[0;32m----> 1\u001b[0m bot_result \u001b[38;5;241m=\u001b[39m chain\u001b[38;5;241m.\u001b[39minvoke({\u001b[38;5;124m\"\u001b[39m\u001b[38;5;124mquestion\u001b[39m\u001b[38;5;124m\"\u001b[39m: prompt, \u001b[38;5;124m\"\u001b[39m\u001b[38;5;124mmost_similar\u001b[39m\u001b[38;5;124m\"\u001b[39m: \u001b[43msql_result\u001b[49m})\n\u001b[1;32m      2\u001b[0m \u001b[38;5;28mprint\u001b[39m(bot_result)\n",
      "\u001b[0;31mNameError\u001b[0m: name 'sql_result' is not defined"
     ]
    }
   ],
   "source": [
    "bot_result = chain.invoke({\"question\": prompt, \"most_similar\": sql_result})\n",
    "print(bot_result)"
   ]
  },
  {
   "cell_type": "code",
   "execution_count": null,
   "id": "26b3ce88-a2ed-4dad-8d77-8707e1cb144d",
   "metadata": {},
   "outputs": [],
   "source": []
  }
 ],
 "metadata": {
  "environment": {
   "kernel": "conda-base-py",
   "name": "workbench-notebooks.m121",
   "type": "gcloud",
   "uri": "us-docker.pkg.dev/deeplearning-platform-release/gcr.io/workbench-notebooks:m121"
  },
  "kernelspec": {
   "display_name": "Python 3 (ipykernel) (Local)",
   "language": "python",
   "name": "conda-base-py"
  },
  "language_info": {
   "codemirror_mode": {
    "name": "ipython",
    "version": 3
   },
   "file_extension": ".py",
   "mimetype": "text/x-python",
   "name": "python",
   "nbconvert_exporter": "python",
   "pygments_lexer": "ipython3",
   "version": "3.10.14"
  }
 },
 "nbformat": 4,
 "nbformat_minor": 5
}
