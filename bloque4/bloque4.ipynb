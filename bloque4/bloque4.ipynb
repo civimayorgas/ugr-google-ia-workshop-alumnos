{
 "cells": [
  {
   "cell_type": "code",
   "execution_count": 1,
   "id": "f3e367bd-f1ae-4cd0-b38e-6a493592ad1e",
   "metadata": {
    "tags": []
   },
   "outputs": [],
   "source": [
    "from google.cloud import aiplatform_v1\n",
    "import streamlit as st \n",
    "from google.cloud import bigquery\n",
    "from langchain_google_vertexai.llms import VertexAI\n",
    "from langchain.prompts import PromptTemplate\n",
    "import vertexai\n",
    "import os\n",
    "from langchain_google_vertexai import VertexAIEmbeddings"
   ]
  },
  {
   "cell_type": "markdown",
   "id": "7cabcf3c-e34d-4813-8d02-4eeb80cf4f08",
   "metadata": {},
   "source": [
    "# Definir una función bot_answers"
   ]
  },
  {
   "cell_type": "markdown",
   "id": "f3e449e3-93b7-42e2-813b-ff1c79257321",
   "metadata": {},
   "source": [
    "### Esta función debe encapsular:"
   ]
  },
  {
   "cell_type": "markdown",
   "id": "917e75b8-517a-4f3d-a71b-8b9aac044412",
   "metadata": {},
   "source": [
    "- Obtenención de la descripción del producto y su embedding\n",
    "- Obtención producto más similar y recomendarlo"
   ]
  },
  {
   "cell_type": "code",
   "execution_count": 2,
   "id": "1369b6f8-b8cd-492b-89c9-e29ac4a6dbf1",
   "metadata": {
    "tags": []
   },
   "outputs": [],
   "source": [
    "# Configuración para el índice desplegado\n",
    "API_ENDPOINT=\"2069128544.us-central1-1043238928011.vdb.vertexai.goog\"\n",
    "INDEX_ENDPOINT=\"projects/1043238928011/locations/us-central1/indexEndpoints/6459098649556156416\"\n",
    "DEPLOYED_INDEX_ID=\"products_data_index_civica\"\n",
    "\n",
    "# Cliente Vector Search\n",
    "client_options = {\"api_endpoint\": API_ENDPOINT}\n",
    "vector_search_client = aiplatform_v1.MatchServiceClient(client_options=client_options)\n",
    "\n",
    "# Cliente BigQuery\n",
    "client = bigquery.Client()\n",
    "\n",
    "# Obtención embeddings\n",
    "embeddings = VertexAIEmbeddings(model_name=\"textembedding-gecko@001\")   ### Utilizamos la clase VertexAIEmbeddings y el método embed_query()\n",
    "\n",
    "# Configuración LLM (Gemini)\n",
    "llm = VertexAI(model_name=\"gemini-pro\", temperature=0.1)"
   ]
  },
  {
   "cell_type": "code",
   "execution_count": 3,
   "id": "bfa72c00-3342-4eea-add2-3d778b665b22",
   "metadata": {
    "tags": []
   },
   "outputs": [],
   "source": [
    "embedding_template = \"\"\"...\"\"\""
   ]
  },
  {
   "cell_type": "code",
   "execution_count": 4,
   "id": "5723783b-9fc1-4ceb-9302-bcbe0c701c14",
   "metadata": {
    "tags": []
   },
   "outputs": [],
   "source": [
    "prompt_embedding_template = PromptTemplate.from_template(embedding_template)"
   ]
  },
  {
   "cell_type": "code",
   "execution_count": 5,
   "id": "c134caef-240d-4538-b789-da9a8c0b3c38",
   "metadata": {
    "tags": []
   },
   "outputs": [],
   "source": [
    "embedding_chain = prompt_embedding_template | llm"
   ]
  },
  {
   "cell_type": "code",
   "execution_count": 6,
   "id": "b569b573-cfcf-4d85-ac80-63414acda0a9",
   "metadata": {
    "tags": []
   },
   "outputs": [],
   "source": [
    "template = \"\"\"...\"\"\""
   ]
  },
  {
   "cell_type": "code",
   "execution_count": 7,
   "id": "36d24389-895b-48f7-a76d-40fbf6e9eeba",
   "metadata": {
    "tags": []
   },
   "outputs": [],
   "source": [
    "prompt_template = PromptTemplate.from_template(template)"
   ]
  },
  {
   "cell_type": "code",
   "execution_count": 8,
   "id": "df6fc684-ccb9-4eda-adff-b7b56eb81ca1",
   "metadata": {
    "tags": []
   },
   "outputs": [],
   "source": [
    "prompt = \"Hola, qué tal, quiero unos vaqueros azules de talla pequeña porque tengo una fiesta mañana\""
   ]
  },
  {
   "cell_type": "code",
   "execution_count": 9,
   "id": "327800c6-5b91-4611-8139-2f7a8212e478",
   "metadata": {
    "tags": []
   },
   "outputs": [],
   "source": [
    "chain = prompt_template | llm"
   ]
  },
  {
   "cell_type": "code",
   "execution_count": 10,
   "id": "5e918b29-963b-4aa1-81b0-242d7d62209e",
   "metadata": {},
   "outputs": [],
   "source": [
    "def bot_answer(prompt):\n",
    "    \n",
    "    return bot_result"
   ]
  },
  {
   "cell_type": "code",
   "execution_count": 11,
   "id": "39a6658a-0145-4532-aa30-b3df3005d88a",
   "metadata": {
    "tags": []
   },
   "outputs": [
    {
     "ename": "NameError",
     "evalue": "name 'bot_result' is not defined",
     "output_type": "error",
     "traceback": [
      "\u001b[0;31m---------------------------------------------------------------------------\u001b[0m",
      "\u001b[0;31mNameError\u001b[0m                                 Traceback (most recent call last)",
      "Cell \u001b[0;32mIn[11], line 1\u001b[0m\n\u001b[0;32m----> 1\u001b[0m full_response \u001b[38;5;241m=\u001b[39m \u001b[43mbot_answer\u001b[49m\u001b[43m(\u001b[49m\u001b[43mprompt\u001b[49m\u001b[43m)\u001b[49m\n",
      "Cell \u001b[0;32mIn[10], line 3\u001b[0m, in \u001b[0;36mbot_answer\u001b[0;34m(prompt)\u001b[0m\n\u001b[1;32m      1\u001b[0m \u001b[38;5;28;01mdef\u001b[39;00m \u001b[38;5;21mbot_answer\u001b[39m(prompt):\n\u001b[0;32m----> 3\u001b[0m     \u001b[38;5;28;01mreturn\u001b[39;00m \u001b[43mbot_result\u001b[49m\n",
      "\u001b[0;31mNameError\u001b[0m: name 'bot_result' is not defined"
     ]
    }
   ],
   "source": [
    "full_response = bot_answer(prompt)"
   ]
  },
  {
   "cell_type": "code",
   "execution_count": null,
   "id": "f7f727d8-f57d-459b-98dc-3f836553dd3c",
   "metadata": {},
   "outputs": [],
   "source": []
  }
 ],
 "metadata": {
  "environment": {
   "kernel": "conda-root-py",
   "name": "workbench-notebooks.m119",
   "type": "gcloud",
   "uri": "us-docker.pkg.dev/deeplearning-platform-release/gcr.io/workbench-notebooks:m119"
  },
  "kernelspec": {
   "display_name": "Python 3 (ipykernel) (Local)",
   "language": "python",
   "name": "conda-root-py"
  },
  "language_info": {
   "codemirror_mode": {
    "name": "ipython",
    "version": 3
   },
   "file_extension": ".py",
   "mimetype": "text/x-python",
   "name": "python",
   "nbconvert_exporter": "python",
   "pygments_lexer": "ipython3",
   "version": "3.10.14"
  }
 },
 "nbformat": 4,
 "nbformat_minor": 5
}
