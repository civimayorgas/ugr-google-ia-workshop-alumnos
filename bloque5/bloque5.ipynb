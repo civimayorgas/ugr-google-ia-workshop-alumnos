{
 "cells": [
  {
   "cell_type": "code",
   "execution_count": 1,
   "id": "76af9895-7565-4403-80cc-7a9a38af9326",
   "metadata": {
    "tags": []
   },
   "outputs": [],
   "source": [
    "from google.cloud import aiplatform_v1\n",
    "import streamlit as st \n",
    "from google.cloud import bigquery\n",
    "from langchain_google_vertexai.llms import VertexAI\n",
    "from langchain_core.prompts import PromptTemplate\n",
    "import vertexai\n",
    "from vertexai.preview.generative_models import (\n",
    "    GenerativeModel,\n",
    "    Part,\n",
    "    Image,\n",
    ")\n",
    "import os\n",
    "from langchain_google_vertexai import VertexAIEmbeddings"
   ]
  },
  {
   "cell_type": "markdown",
   "id": "7f7f5815-85ae-484c-97d7-2099a08bada2",
   "metadata": {
    "tags": []
   },
   "source": [
    "### Definimos Gemini Pro Vision como nuestro modelo"
   ]
  },
  {
   "cell_type": "code",
   "execution_count": 2,
   "id": "e150f446-3c3d-4976-9eee-b00eada3e715",
   "metadata": {
    "tags": []
   },
   "outputs": [],
   "source": [
    "model_vision = GenerativeModel(\"gemini-pro-vision\")"
   ]
  },
  {
   "cell_type": "markdown",
   "id": "face93f8-8649-4725-8b00-9a50ea39ec5c",
   "metadata": {
    "tags": []
   },
   "source": [
    "### Cargamos una imagen de prueba (en el chatbot se cargará desde la interfaz de usuario con streamlit)"
   ]
  },
  {
   "cell_type": "code",
   "execution_count": 3,
   "id": "66e472e6-b17f-4a95-ae7b-5f524730e1fc",
   "metadata": {
    "tags": []
   },
   "outputs": [],
   "source": [
    "import http.client\n",
    "import typing\n",
    "import urllib.request\n",
    "\n",
    "# create helper function\n",
    "def load_image_from_url(image_url: str) -> Image:\n",
    "    with urllib.request.urlopen(image_url) as response:\n",
    "        response = typing.cast(http.client.HTTPResponse, response)\n",
    "        image_bytes = response.read()\n",
    "    return Image.from_bytes(image_bytes)"
   ]
  },
  {
   "cell_type": "code",
   "execution_count": 4,
   "id": "9624bed9-4809-4a68-8b57-51409c55089c",
   "metadata": {
    "tags": []
   },
   "outputs": [],
   "source": [
    "my_image = load_image_from_url(\"https://www.willsoor.es/images/produkty/thumb/11897img_4890_2.jpg\")"
   ]
  },
  {
   "cell_type": "markdown",
   "id": "828881b3-0206-4544-a21f-0150232a66ac",
   "metadata": {
    "tags": []
   },
   "source": [
    "### Utilizamos Gemini Pro Vision para describir la imagen"
   ]
  },
  {
   "cell_type": "code",
   "execution_count": 5,
   "id": "e5856733-55b9-4839-82f7-6bf01b88f73e",
   "metadata": {
    "tags": []
   },
   "outputs": [
    {
     "name": "stdout",
     "output_type": "stream",
     "text": [
      "candidates {\n",
      "  content {\n",
      "    role: \"model\"\n",
      "    parts {\n",
      "      text: \" The image shows a woman wearing a white blouse with a red pattern of women\\'s high heel shoes, red pants, and black high heels. She is holding a red blazer in her hand.\"\n",
      "    }\n",
      "  }\n",
      "  finish_reason: STOP\n",
      "  safety_ratings {\n",
      "    category: HARM_CATEGORY_HATE_SPEECH\n",
      "    probability: NEGLIGIBLE\n",
      "    probability_score: 0.0437727422\n",
      "    severity: HARM_SEVERITY_NEGLIGIBLE\n",
      "    severity_score: 0.146819696\n",
      "  }\n",
      "  safety_ratings {\n",
      "    category: HARM_CATEGORY_DANGEROUS_CONTENT\n",
      "    probability: NEGLIGIBLE\n",
      "    probability_score: 0.0867867395\n",
      "    severity: HARM_SEVERITY_NEGLIGIBLE\n",
      "    severity_score: 0.027795624\n",
      "  }\n",
      "  safety_ratings {\n",
      "    category: HARM_CATEGORY_HARASSMENT\n",
      "    probability: NEGLIGIBLE\n",
      "    probability_score: 0.0481367707\n",
      "    severity: HARM_SEVERITY_NEGLIGIBLE\n",
      "    severity_score: 0.0694154724\n",
      "  }\n",
      "  safety_ratings {\n",
      "    category: HARM_CATEGORY_SEXUALLY_EXPLICIT\n",
      "    probability: NEGLIGIBLE\n",
      "    probability_score: 0.204341903\n",
      "    severity: HARM_SEVERITY_NEGLIGIBLE\n",
      "    severity_score: 0.0861695558\n",
      "  }\n",
      "}\n",
      "usage_metadata {\n",
      "  prompt_token_count: 261\n",
      "  candidates_token_count: 39\n",
      "  total_token_count: 300\n",
      "}\n",
      "\n"
     ]
    }
   ],
   "source": [
    "# Pass multimodal prompt\n",
    "response = model_vision.generate_content(\n",
    "    [\n",
    "        my_image,\n",
    "        \"Describe the image\"\n",
    "    ]\n",
    ")\n",
    "print(response)"
   ]
  },
  {
   "cell_type": "code",
   "execution_count": 6,
   "id": "85d70be2-0d34-4f55-9877-b7593aa61820",
   "metadata": {
    "tags": []
   },
   "outputs": [
    {
     "name": "stdout",
     "output_type": "stream",
     "text": [
      " The image shows a woman wearing a white blouse with a red pattern of women's high heel shoes, red pants, and black high heels. She is holding a red blazer in her hand.\n"
     ]
    }
   ],
   "source": [
    "print(response.candidates[0].content.parts[0].text)"
   ]
  },
  {
   "cell_type": "code",
   "execution_count": null,
   "id": "b4a66192-aca2-4dbd-9d46-0bf950d93b22",
   "metadata": {},
   "outputs": [],
   "source": []
  }
 ],
 "metadata": {
  "environment": {
   "kernel": "conda-root-py",
   "name": "workbench-notebooks.m119",
   "type": "gcloud",
   "uri": "us-docker.pkg.dev/deeplearning-platform-release/gcr.io/workbench-notebooks:m119"
  },
  "kernelspec": {
   "display_name": "Python 3 (ipykernel) (Local)",
   "language": "python",
   "name": "conda-root-py"
  },
  "language_info": {
   "codemirror_mode": {
    "name": "ipython",
    "version": 3
   },
   "file_extension": ".py",
   "mimetype": "text/x-python",
   "name": "python",
   "nbconvert_exporter": "python",
   "pygments_lexer": "ipython3",
   "version": "3.10.14"
  }
 },
 "nbformat": 4,
 "nbformat_minor": 5
}
