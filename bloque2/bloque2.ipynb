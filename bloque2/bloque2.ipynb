{
 "cells": [
  {
   "cell_type": "markdown",
   "id": "1adb5eeb-d6e0-4a66-8481-3c8a7f3274d2",
   "metadata": {
    "tags": []
   },
   "source": [
    "# Bloque 2"
   ]
  },
  {
   "cell_type": "markdown",
   "id": "a542c27b-02cd-45c1-914b-e1a14a2062cb",
   "metadata": {},
   "source": [
    "# Probamos la realización de consultas sobre nuestro índice para obtener los elementos más similares"
   ]
  },
  {
   "cell_type": "markdown",
   "id": "e04d5db8-aada-489f-8212-e795d8d51526",
   "metadata": {},
   "source": [
    "## Transformar texto a embedding"
   ]
  },
  {
   "cell_type": "markdown",
   "id": "0b1e2ff1-20db-4489-93ea-12b3f08b9429",
   "metadata": {},
   "source": [
    "### Utilizamos la clase VertexAIEmbeddings y el método embed_query()"
   ]
  },
  {
   "cell_type": "code",
   "execution_count": 1,
   "id": "15bef42a-f694-4103-82d8-3437bd61c238",
   "metadata": {
    "tags": []
   },
   "outputs": [],
   "source": [
    "import vertexai\n",
    "from langchain_google_vertexai import VertexAIEmbeddings\n",
    "\n",
    "# Obtención embeddings\n",
    "embeddings = VertexAIEmbeddings(model_name=\"textembedding-gecko@001\")   "
   ]
  },
  {
   "cell_type": "markdown",
   "id": "d2ab2a23-b0c6-4a02-8435-29b5d7754cd9",
   "metadata": {},
   "source": [
    "## Llamamos al endpoint publicado que llama a Matching Engine"
   ]
  },
  {
   "cell_type": "markdown",
   "id": "0b00a2a9-f123-420b-8fff-bb8efbfa64e3",
   "metadata": {
    "tags": []
   },
   "source": [
    "Realizamos una búsqueda de los vecinos más cercanos (nearest neighbor search) en el índice desplegado. Configuramos el número máximo utilizando neighbor_count.\n",
    "\n",
    "### Configuración\n",
    "- `API_ENDPOINT`\n",
    "- `INDEX_ENDPOINT`\n",
    "- `DEPLOYED_INDEX_ID`\n",
    "\n",
    "1. Se crea un objeto `IndexDatapoint` que incluye un vector generado a partir de encode_texts_to_embeddings (el embedding del prompt).\n",
    "2. Se especifica la consulta para buscar los vecinos más cercanos, indicando el número de vecinos a recuperar.\n",
    "3. Se crea un objeto `FindNeighborsRequest` que incluye la consulta preparada con el datapoint al índice.\n",
    "\n",
    "Por última se realiza la solicitud de búsqueda de vecinos y se almacena la respuesta\n"
   ]
  },
  {
   "cell_type": "code",
   "execution_count": 2,
   "id": "8bc4ddf5-0e9f-4275-8b85-c1b4bb6ff31f",
   "metadata": {
    "tags": []
   },
   "outputs": [],
   "source": [
    "prompt = \"Green Cap for women\""
   ]
  },
  {
   "cell_type": "code",
   "execution_count": 3,
   "id": "05edf82f-c637-459d-a8e5-4ece2aa55790",
   "metadata": {
    "tags": []
   },
   "outputs": [
    {
     "name": "stdout",
     "output_type": "stream",
     "text": [
      "nearest_neighbors {\n",
      "  neighbors {\n",
      "    datapoint {\n",
      "      datapoint_id: \"14157\"\n",
      "      crowding_tag {\n",
      "        crowding_attribute: \"0\"\n",
      "      }\n",
      "    }\n",
      "    distance: 0.76098883152008057\n",
      "  }\n",
      "  neighbors {\n",
      "    datapoint {\n",
      "      datapoint_id: \"14115\"\n",
      "      crowding_tag {\n",
      "        crowding_attribute: \"0\"\n",
      "      }\n",
      "    }\n",
      "    distance: 0.75971817970275879\n",
      "  }\n",
      "  neighbors {\n",
      "    datapoint {\n",
      "      datapoint_id: \"13842\"\n",
      "      crowding_tag {\n",
      "        crowding_attribute: \"0\"\n",
      "      }\n",
      "    }\n",
      "    distance: 0.73133599758148193\n",
      "  }\n",
      "}\n",
      "\n"
     ]
    }
   ],
   "source": [
    "from google.cloud import aiplatform_v1\n",
    "\n",
    "# Set variables for the current deployed index.\n",
    "API_ENDPOINT=\"2069128544.us-central1-1043238928011.vdb.vertexai.goog\"\n",
    "INDEX_ENDPOINT=\"projects/1043238928011/locations/us-central1/indexEndpoints/6459098649556156416\"\n",
    "DEPLOYED_INDEX_ID=\"products_data_index_civica\"\n",
    "\n",
    "# Configure Vector Search client\n",
    "client_options = {\n",
    "  \"api_endpoint\": API_ENDPOINT\n",
    "}\n",
    "vector_search_client = aiplatform_v1.MatchServiceClient(\n",
    "  client_options=client_options,\n",
    ")\n",
    "\n",
    "# Build FindNeighborsRequest object\n",
    "datapoint = aiplatform_v1.IndexDatapoint(\n",
    "  feature_vector=embeddings.embed_query(prompt)\n",
    ")\n",
    "query = aiplatform_v1.FindNeighborsRequest.Query(\n",
    "  datapoint=datapoint,\n",
    "  # The number of nearest neighbors to be retrieved\n",
    "  neighbor_count=3\n",
    ")\n",
    "request = aiplatform_v1.FindNeighborsRequest(\n",
    "  index_endpoint=INDEX_ENDPOINT,\n",
    "  deployed_index_id=DEPLOYED_INDEX_ID,\n",
    "  # Request can have multiple queries\n",
    "  queries=[query],\n",
    "  return_full_datapoint=False,\n",
    ")\n",
    "\n",
    "# Execute the request\n",
    "response = vector_search_client.find_neighbors(request)\n",
    "\n",
    "# Handle the response\n",
    "print(response)"
   ]
  },
  {
   "cell_type": "markdown",
   "id": "6311550f-9cc0-4665-90a1-3707366b3947",
   "metadata": {
    "tags": []
   },
   "source": [
    "### Acceso elementos devueltos por el endpoint"
   ]
  },
  {
   "cell_type": "code",
   "execution_count": 4,
   "id": "4e675508-67a1-455a-b3c6-110728ed4010",
   "metadata": {
    "tags": []
   },
   "outputs": [
    {
     "data": {
      "text/plain": [
       "'14157'"
      ]
     },
     "execution_count": 4,
     "metadata": {},
     "output_type": "execute_result"
    }
   ],
   "source": [
    "response.nearest_neighbors[0].neighbors[0].datapoint.datapoint_id"
   ]
  },
  {
   "cell_type": "markdown",
   "id": "8bb34bf7-f96d-4017-beea-7af58cbfcaa4",
   "metadata": {},
   "source": [
    "### Consulta Big Query"
   ]
  },
  {
   "cell_type": "code",
   "execution_count": 5,
   "id": "9a4394c8-d87a-4288-be91-6de50b8d7740",
   "metadata": {
    "tags": []
   },
   "outputs": [
    {
     "data": {
      "text/html": [
       "<div>\n",
       "<style scoped>\n",
       "    .dataframe tbody tr th:only-of-type {\n",
       "        vertical-align: middle;\n",
       "    }\n",
       "\n",
       "    .dataframe tbody tr th {\n",
       "        vertical-align: top;\n",
       "    }\n",
       "\n",
       "    .dataframe thead th {\n",
       "        text-align: right;\n",
       "    }\n",
       "</style>\n",
       "<table border=\"1\" class=\"dataframe\">\n",
       "  <thead>\n",
       "    <tr style=\"text-align: right;\">\n",
       "      <th></th>\n",
       "      <th>id</th>\n",
       "      <th>cost</th>\n",
       "      <th>category</th>\n",
       "      <th>name</th>\n",
       "      <th>brand</th>\n",
       "      <th>retail_price</th>\n",
       "      <th>department</th>\n",
       "      <th>sku</th>\n",
       "      <th>distribution_center_id</th>\n",
       "    </tr>\n",
       "  </thead>\n",
       "  <tbody>\n",
       "    <tr>\n",
       "      <th>0</th>\n",
       "      <td>14157</td>\n",
       "      <td>4.64877</td>\n",
       "      <td>Accessories</td>\n",
       "      <td>Enzyme Regular Solid Army Caps-Olive W35S45D (...</td>\n",
       "      <td>MG</td>\n",
       "      <td>10.99</td>\n",
       "      <td>Women</td>\n",
       "      <td>00BD13095D06C20B11A2993CA419D16B</td>\n",
       "      <td>1</td>\n",
       "    </tr>\n",
       "  </tbody>\n",
       "</table>\n",
       "</div>"
      ],
      "text/plain": [
       "      id     cost     category  \\\n",
       "0  14157  4.64877  Accessories   \n",
       "\n",
       "                                                name brand  retail_price  \\\n",
       "0  Enzyme Regular Solid Army Caps-Olive W35S45D (...    MG         10.99   \n",
       "\n",
       "  department                               sku  distribution_center_id  \n",
       "0      Women  00BD13095D06C20B11A2993CA419D16B                       1  "
      ]
     },
     "execution_count": 5,
     "metadata": {},
     "output_type": "execute_result"
    }
   ],
   "source": [
    "from google.cloud import bigquery\n",
    "\n",
    "client = bigquery.Client()\n",
    "\n",
    "sql = f\"\"\"\n",
    "SELECT *\n",
    "FROM ia-ugr.ecommerce.products\n",
    "WHERE ID = {response.nearest_neighbors[0].neighbors[0].datapoint.datapoint_id}\n",
    ";\n",
    "\"\"\"\n",
    "\n",
    "product = client.query(sql).to_dataframe()\n",
    "product.head()"
   ]
  },
  {
   "cell_type": "code",
   "execution_count": null,
   "id": "5e8e0296-7a6b-4a93-9f26-fe63deecd218",
   "metadata": {},
   "outputs": [],
   "source": []
  }
 ],
 "metadata": {
  "environment": {
   "kernel": "conda-root-py",
   "name": "workbench-notebooks.m119",
   "type": "gcloud",
   "uri": "us-docker.pkg.dev/deeplearning-platform-release/gcr.io/workbench-notebooks:m119"
  },
  "kernelspec": {
   "display_name": "Python 3 (ipykernel) (Local)",
   "language": "python",
   "name": "conda-root-py"
  },
  "language_info": {
   "codemirror_mode": {
    "name": "ipython",
    "version": 3
   },
   "file_extension": ".py",
   "mimetype": "text/x-python",
   "name": "python",
   "nbconvert_exporter": "python",
   "pygments_lexer": "ipython3",
   "version": "3.10.14"
  }
 },
 "nbformat": 4,
 "nbformat_minor": 5
}
